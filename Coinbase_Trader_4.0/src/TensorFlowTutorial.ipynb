{
 "cells": [
  {
   "cell_type": "markdown",
   "id": "diagnostic-trainer",
   "metadata": {},
   "source": [
    "# Tensorflow Tutorial"
   ]
  },
  {
   "cell_type": "code",
   "execution_count": 27,
   "id": "stable-mapping",
   "metadata": {},
   "outputs": [],
   "source": [
    "import tensorflow as tf"
   ]
  },
  {
   "cell_type": "markdown",
   "id": "warming-malta",
   "metadata": {},
   "source": [
    "## Tensorflow variables"
   ]
  },
  {
   "cell_type": "code",
   "execution_count": 6,
   "id": "insured-conditioning",
   "metadata": {},
   "outputs": [],
   "source": [
    "string = tf.Variable('howdy', tf.string)\n",
    "number = tf.Variable(1234, tf.int16)\n",
    "floating = tf.Variable(22.2123, tf.float64)\n"
   ]
  },
  {
   "cell_type": "code",
   "execution_count": 26,
   "id": "registered-geology",
   "metadata": {},
   "outputs": [
    {
     "name": "stdout",
     "output_type": "stream",
     "text": [
      "(2, 3)\n",
      "tf.Tensor(2, shape=(), dtype=int32)\n"
     ]
    }
   ],
   "source": [
    "rank1_tensor = tf.Variable([1,2,3,4], tf.int64)\n",
    "rank2_tensor = tf.Variable([[1,2,3],[2,3,3]])\n",
    "print(rank2_tensor.shape)\n",
    "print(tf.rank(rank2_tensor))"
   ]
  },
  {
   "cell_type": "markdown",
   "id": "complete-lawyer",
   "metadata": {},
   "source": [
    "## Reshaping"
   ]
  },
  {
   "cell_type": "code",
   "execution_count": 64,
   "id": "nutritional-eugene",
   "metadata": {},
   "outputs": [],
   "source": [
    "tensor1 = tf.ones([3,2,4]) #Tensor of shape 3,2,4 containing ones\n",
    "tensor2 = tf.reshape(tensor1, [2,4,3]) #Reshapes the tensor to 2,4,3.\n",
    "tensor3 = tf.reshape(tensor1, [2,12]) #Product of shape values needs to be constant\n",
    "tensor4 = tf.reshape(tensor1, [3,-1]) #-1 makes the computer calculate the shape that goes in that dimension"
   ]
  },
  {
   "cell_type": "markdown",
   "id": "quarterly-filing",
   "metadata": {},
   "source": [
    "## TensorFlow Core Learning Algorithms"
   ]
  },
  {
   "cell_type": "code",
   "execution_count": null,
   "id": "filled-moderator",
   "metadata": {},
   "outputs": [],
   "source": []
  },
  {
   "cell_type": "code",
   "execution_count": null,
   "id": "vertical-found",
   "metadata": {},
   "outputs": [],
   "source": []
  },
  {
   "cell_type": "code",
   "execution_count": 61,
   "id": "owned-lawyer",
   "metadata": {},
   "outputs": [
    {
     "data": {
      "text/plain": [
       "<tf.Tensor: shape=(1, 24), dtype=float32, numpy=\n",
       "array([[1., 1., 1., 1., 1., 1., 1., 1., 1., 1., 1., 1., 1., 1., 1., 1.,\n",
       "        1., 1., 1., 1., 1., 1., 1., 1.]], dtype=float32)>"
      ]
     },
     "execution_count": 61,
     "metadata": {},
     "output_type": "execute_result"
    }
   ],
   "source": [
    "tensor4"
   ]
  },
  {
   "cell_type": "code",
   "execution_count": null,
   "id": "young-validation",
   "metadata": {},
   "outputs": [],
   "source": []
  }
 ],
 "metadata": {
  "kernelspec": {
   "display_name": "Python 3",
   "language": "python",
   "name": "python3"
  },
  "language_info": {
   "codemirror_mode": {
    "name": "ipython",
    "version": 3
   },
   "file_extension": ".py",
   "mimetype": "text/x-python",
   "name": "python",
   "nbconvert_exporter": "python",
   "pygments_lexer": "ipython3",
   "version": "3.8.5"
  }
 },
 "nbformat": 4,
 "nbformat_minor": 5
}
