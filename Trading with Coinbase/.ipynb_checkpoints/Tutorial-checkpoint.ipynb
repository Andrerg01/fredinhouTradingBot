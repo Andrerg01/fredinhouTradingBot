{
 "cells": [
  {
   "cell_type": "markdown",
   "metadata": {},
   "source": [
    "# Trading with Coinbase (Sandbox)"
   ]
  },
  {
   "cell_type": "code",
   "execution_count": 1,
   "metadata": {},
   "outputs": [],
   "source": [
    "import cbpro\n",
    "import pandas as pd\n",
    "import pickle as pkl\n",
    "import datetime\n",
    "import matplotlib.pyplot as plt\n",
    "import financialFunctions as ff\n",
    "import numpy as np\n",
    "import matplotlib.patches as patches\n",
    "from decimal import *\n",
    "#Makes it so a module is changed, it updates automatically on the code\n",
    "%load_ext autoreload\n",
    "%autoreload 2"
   ]
  },
  {
   "cell_type": "code",
   "execution_count": 385,
   "metadata": {},
   "outputs": [
    {
     "data": {
      "text/plain": [
       "datetime.datetime(2021, 3, 22, 21, 50, 18, 393519)"
      ]
     },
     "execution_count": 385,
     "metadata": {},
     "output_type": "execute_result"
    }
   ],
   "source": [
    "datetime.datetime.now()"
   ]
  },
  {
   "cell_type": "markdown",
   "metadata": {},
   "source": [
    "## AuthenticatedClient Class"
   ]
  },
  {
   "cell_type": "code",
   "execution_count": 2,
   "metadata": {},
   "outputs": [],
   "source": [
    "with open('../../fredinhouTradingBot_Pvt/coinbase_credentials.pkl', 'rb') as f:\n",
    "    credentials = pkl.load(f)\n",
    "Client = cbpro.AuthenticatedClient(\n",
    "    credentials['APIKey'],\n",
    "    credentials['SecretKey'],\n",
    "    credentials['passPhrase'],\n",
    "    api_url = credentials['APIurl']\n",
    "    )\n",
    "del credentials"
   ]
  },
  {
   "cell_type": "markdown",
   "metadata": {},
   "source": [
    "## Placing a Market Order"
   ]
  },
  {
   "cell_type": "code",
   "execution_count": 610,
   "metadata": {},
   "outputs": [],
   "source": [
    "def makeTrades(Client, buys, sells):\n",
    "    for key in sells.keys():\n",
    "        if key != 'USD-USD':\n",
    "            placed = False\n",
    "            completed = False\n",
    "            pct = 1.0\n",
    "            while not placed:\n",
    "                print(\"Placing an order to sell \" + str(sells[key]*pct) + \" \" + key)\n",
    "                sellOrder = Client.place_market_order(product_id = key, side = 'sell', size = sells[key]*pct)\n",
    "                if len(sellOrder) > 1:\n",
    "                    placed = True\n",
    "                    time.sleep(1)\n",
    "                else:\n",
    "                    pct -= 0.005\n",
    "                    print(\"Order placement not successfull, trying again with \" + str(pct*100) + \"% of original amount in 1 second\")\n",
    "                    print(sellOrder)\n",
    "                    time.sleep(1)\n",
    "            while not completed:\n",
    "                orderStatus = Client.get_order(sellOrder['id'])\n",
    "                if orderStatus == 'done':\n",
    "                    print(\"Order to sell \" + str(sells[key]*pct) + \" \" + key + \" has been successfully completed.\")\n",
    "                    completed = True\n",
    "                else:\n",
    "                    print(\"Order did not yet complete, waiting 1 second and trying again.\")\n",
    "                    time.sleep(1)  \n",
    "    for key in buys.keys():\n",
    "        if key != 'USD-USD':\n",
    "            placed = False\n",
    "            completed = False\n",
    "            pct = 1.0\n",
    "            while not placed:\n",
    "                print(\"Placing an order to buy \" + str(buys[key]*pct) + \" \" + key)\n",
    "                buyOrder = Client.place_market_order(product_id = key, side = 'buy', size = buys[key]*pct)\n",
    "                if len(buyOrder) > 1:\n",
    "                    placed = True\n",
    "                    time.sleep(1)\n",
    "                else:\n",
    "                    pct -= 0.005\n",
    "                    print(\"Order placement not successfull, trying again with \" + str(pct*100) + \"% of original amount in 1 second\")\n",
    "                    print(buyOrder)\n",
    "                    time.sleep(1)\n",
    "            while not completed:\n",
    "                orderStatus = Client.get_order(buyOrder['id'])\n",
    "                if orderStatus == 'done':\n",
    "                    print(\"Order to buy \" + str(buys[key]*pct) + \" \" + key + \" has been successfully completed.\")\n",
    "                    completed = True\n",
    "                else:\n",
    "                    print(\"Order did not yet complete, waiting 1 second and trying again.\")\n",
    "                    time.sleep(1)  "
   ]
  },
  {
   "cell_type": "code",
   "execution_count": 645,
   "metadata": {},
   "outputs": [
    {
     "data": {
      "text/plain": [
       "'done'"
      ]
     },
     "execution_count": 645,
     "metadata": {},
     "output_type": "execute_result"
    }
   ],
   "source": [
    "#Commented while not on sandbox mode\n",
    "#Client.place_market_order(product_id = 'BTC-USD', side = 'buy', funds = 1000) #size = value in left currency, funds = value in right currency\n",
    "orders = Client.get_order('6dac80c7-229d-4cab-9bb6-1c9e8b4879b6')\n",
    "orders['status']\n",
    "#accs = Client.get_accounts()\n",
    "#accs"
   ]
  },
  {
   "cell_type": "code",
   "execution_count": 612,
   "metadata": {},
   "outputs": [
    {
     "name": "stdout",
     "output_type": "stream",
     "text": [
      "Placing an order to sell 0.1 FIL-USD\n",
      "Order to sell 0.1 FIL-USD has been successfully completed.\n"
     ]
    }
   ],
   "source": [
    "buys = {'FIL-USD':0.6100341259057015/3, 'REP-USD':0.43431815108892274/3}\n",
    "sells = {}\n",
    "makeTrades(Client, buys, sells)"
   ]
  },
  {
   "cell_type": "code",
   "execution_count": 617,
   "metadata": {},
   "outputs": [],
   "source": [
    "o = Client.place_market_order(product_id = 'FIL-USD', side = 'sell', size = 0.022)"
   ]
  },
  {
   "cell_type": "code",
   "execution_count": 625,
   "metadata": {},
   "outputs": [
    {
     "data": {
      "text/plain": [
       "{'id': '6dac80c7-229d-4cab-9bb6-1c9e8b4879b6',\n",
       " 'size': '0.022',\n",
       " 'product_id': 'FIL-USD',\n",
       " 'side': 'sell',\n",
       " 'stp': 'dc',\n",
       " 'type': 'market',\n",
       " 'post_only': False,\n",
       " 'created_at': '2021-03-25T06:04:08.359123Z',\n",
       " 'fill_fees': '0',\n",
       " 'filled_size': '0',\n",
       " 'executed_value': '0',\n",
       " 'status': 'pending',\n",
       " 'settled': False}"
      ]
     },
     "execution_count": 625,
     "metadata": {},
     "output_type": "execute_result"
    }
   ],
   "source": [
    "o"
   ]
  },
  {
   "cell_type": "markdown",
   "metadata": {},
   "source": [
    "## Retrieving Raw Data"
   ]
  },
  {
   "cell_type": "markdown",
   "metadata": {},
   "source": [
    "### For a single asset"
   ]
  },
  {
   "cell_type": "code",
   "execution_count": 394,
   "metadata": {},
   "outputs": [
    {
     "name": "stderr",
     "output_type": "stream",
     "text": [
      "[autoreload of financialFunctions failed: Traceback (most recent call last):\n",
      "  File \"/Users/andreguimaraes/opt/anaconda3/lib/python3.7/site-packages/IPython/extensions/autoreload.py\", line 245, in check\n",
      "    superreload(m, reload, self.old_objects)\n",
      "  File \"/Users/andreguimaraes/opt/anaconda3/lib/python3.7/site-packages/IPython/extensions/autoreload.py\", line 450, in superreload\n",
      "    update_generic(old_obj, new_obj)\n",
      "  File \"/Users/andreguimaraes/opt/anaconda3/lib/python3.7/site-packages/IPython/extensions/autoreload.py\", line 387, in update_generic\n",
      "    update(a, b)\n",
      "  File \"/Users/andreguimaraes/opt/anaconda3/lib/python3.7/site-packages/IPython/extensions/autoreload.py\", line 357, in update_class\n",
      "    update_instances(old, new)\n",
      "  File \"/Users/andreguimaraes/opt/anaconda3/lib/python3.7/site-packages/IPython/extensions/autoreload.py\", line 312, in update_instances\n",
      "    update_instances(old, new, obj.__dict__, visited)\n",
      "  File \"/Users/andreguimaraes/opt/anaconda3/lib/python3.7/site-packages/IPython/extensions/autoreload.py\", line 312, in update_instances\n",
      "    update_instances(old, new, obj.__dict__, visited)\n",
      "  File \"/Users/andreguimaraes/opt/anaconda3/lib/python3.7/site-packages/IPython/extensions/autoreload.py\", line 317, in update_instances\n",
      "    update_instances(old, new, obj, visited)\n",
      "  File \"/Users/andreguimaraes/opt/anaconda3/lib/python3.7/site-packages/IPython/extensions/autoreload.py\", line 312, in update_instances\n",
      "    update_instances(old, new, obj.__dict__, visited)\n",
      "  File \"/Users/andreguimaraes/opt/anaconda3/lib/python3.7/site-packages/IPython/extensions/autoreload.py\", line 312, in update_instances\n",
      "    update_instances(old, new, obj.__dict__, visited)\n",
      "  File \"/Users/andreguimaraes/opt/anaconda3/lib/python3.7/site-packages/IPython/extensions/autoreload.py\", line 317, in update_instances\n",
      "    update_instances(old, new, obj, visited)\n",
      "NotImplementedError: Iteration over this class is unlikely to be threadsafe.\n",
      "]\n"
     ]
    },
    {
     "name": "stdout",
     "output_type": "stream",
     "text": [
      "Retrieving data for LTC-USD\n",
      "Granularity too small, subdividing requests.\n",
      "Retrieving data for LTC-USD\n",
      "Gathering request 1/3\n",
      "Retrieving data for LTC-USD\n",
      "Gathering request 2/3\n",
      "Retrieving data for LTC-USD\n",
      "Gathering request 3/3\n"
     ]
    },
    {
     "data": {
      "text/html": [
       "<div>\n",
       "<style scoped>\n",
       "    .dataframe tbody tr th:only-of-type {\n",
       "        vertical-align: middle;\n",
       "    }\n",
       "\n",
       "    .dataframe tbody tr th {\n",
       "        vertical-align: top;\n",
       "    }\n",
       "\n",
       "    .dataframe thead th {\n",
       "        text-align: right;\n",
       "    }\n",
       "</style>\n",
       "<table border=\"1\" class=\"dataframe\">\n",
       "  <thead>\n",
       "    <tr style=\"text-align: right;\">\n",
       "      <th></th>\n",
       "      <th>low</th>\n",
       "      <th>high</th>\n",
       "      <th>open</th>\n",
       "      <th>close</th>\n",
       "      <th>volume</th>\n",
       "    </tr>\n",
       "    <tr>\n",
       "      <th>time</th>\n",
       "      <th></th>\n",
       "      <th></th>\n",
       "      <th></th>\n",
       "      <th></th>\n",
       "      <th></th>\n",
       "    </tr>\n",
       "  </thead>\n",
       "  <tbody>\n",
       "    <tr>\n",
       "      <td>2021-02-20 16:00:00</td>\n",
       "      <td>216.08</td>\n",
       "      <td>232.32</td>\n",
       "      <td>232.32</td>\n",
       "      <td>225.88</td>\n",
       "      <td>86466.246471</td>\n",
       "    </tr>\n",
       "    <tr>\n",
       "      <td>2021-02-20 17:00:00</td>\n",
       "      <td>222.22</td>\n",
       "      <td>228.91</td>\n",
       "      <td>225.82</td>\n",
       "      <td>227.17</td>\n",
       "      <td>62214.159636</td>\n",
       "    </tr>\n",
       "    <tr>\n",
       "      <td>2021-02-20 18:00:00</td>\n",
       "      <td>223.66</td>\n",
       "      <td>229.53</td>\n",
       "      <td>227.04</td>\n",
       "      <td>229.53</td>\n",
       "      <td>25360.658246</td>\n",
       "    </tr>\n",
       "    <tr>\n",
       "      <td>2021-02-20 19:00:00</td>\n",
       "      <td>224.27</td>\n",
       "      <td>230.30</td>\n",
       "      <td>229.56</td>\n",
       "      <td>229.15</td>\n",
       "      <td>38736.002533</td>\n",
       "    </tr>\n",
       "    <tr>\n",
       "      <td>2021-02-20 20:00:00</td>\n",
       "      <td>228.49</td>\n",
       "      <td>233.14</td>\n",
       "      <td>229.22</td>\n",
       "      <td>230.82</td>\n",
       "      <td>29481.109782</td>\n",
       "    </tr>\n",
       "    <tr>\n",
       "      <td>...</td>\n",
       "      <td>...</td>\n",
       "      <td>...</td>\n",
       "      <td>...</td>\n",
       "      <td>...</td>\n",
       "      <td>...</td>\n",
       "    </tr>\n",
       "    <tr>\n",
       "      <td>2021-03-22 12:00:00</td>\n",
       "      <td>194.62</td>\n",
       "      <td>196.88</td>\n",
       "      <td>195.22</td>\n",
       "      <td>196.16</td>\n",
       "      <td>5840.176642</td>\n",
       "    </tr>\n",
       "    <tr>\n",
       "      <td>2021-03-22 13:00:00</td>\n",
       "      <td>194.96</td>\n",
       "      <td>196.53</td>\n",
       "      <td>196.15</td>\n",
       "      <td>195.76</td>\n",
       "      <td>5125.430590</td>\n",
       "    </tr>\n",
       "    <tr>\n",
       "      <td>2021-03-22 14:00:00</td>\n",
       "      <td>192.30</td>\n",
       "      <td>195.91</td>\n",
       "      <td>195.76</td>\n",
       "      <td>192.71</td>\n",
       "      <td>17441.256178</td>\n",
       "    </tr>\n",
       "    <tr>\n",
       "      <td>2021-03-22 15:00:00</td>\n",
       "      <td>186.00</td>\n",
       "      <td>193.72</td>\n",
       "      <td>192.72</td>\n",
       "      <td>186.33</td>\n",
       "      <td>39072.754072</td>\n",
       "    </tr>\n",
       "    <tr>\n",
       "      <td>2021-03-22 16:00:00</td>\n",
       "      <td>185.01</td>\n",
       "      <td>188.69</td>\n",
       "      <td>186.46</td>\n",
       "      <td>187.56</td>\n",
       "      <td>19443.218800</td>\n",
       "    </tr>\n",
       "  </tbody>\n",
       "</table>\n",
       "<p>720 rows × 5 columns</p>\n",
       "</div>"
      ],
      "text/plain": [
       "                        low    high    open   close        volume\n",
       "time                                                             \n",
       "2021-02-20 16:00:00  216.08  232.32  232.32  225.88  86466.246471\n",
       "2021-02-20 17:00:00  222.22  228.91  225.82  227.17  62214.159636\n",
       "2021-02-20 18:00:00  223.66  229.53  227.04  229.53  25360.658246\n",
       "2021-02-20 19:00:00  224.27  230.30  229.56  229.15  38736.002533\n",
       "2021-02-20 20:00:00  228.49  233.14  229.22  230.82  29481.109782\n",
       "...                     ...     ...     ...     ...           ...\n",
       "2021-03-22 12:00:00  194.62  196.88  195.22  196.16   5840.176642\n",
       "2021-03-22 13:00:00  194.96  196.53  196.15  195.76   5125.430590\n",
       "2021-03-22 14:00:00  192.30  195.91  195.76  192.71  17441.256178\n",
       "2021-03-22 15:00:00  186.00  193.72  192.72  186.33  39072.754072\n",
       "2021-03-22 16:00:00  185.01  188.69  186.46  187.56  19443.218800\n",
       "\n",
       "[720 rows x 5 columns]"
      ]
     },
     "execution_count": 394,
     "metadata": {},
     "output_type": "execute_result"
    }
   ],
   "source": [
    "now = datetime.datetime.now()\n",
    "end = now\n",
    "start = end - datetime.timedelta(days = 30)\n",
    "candles_df = ff.getRawData(Client, 'LTC-USD', start = start, end = end, granularity = 3600, verbose = True)\n",
    "candles_df"
   ]
  },
  {
   "cell_type": "markdown",
   "metadata": {},
   "source": [
    "### For multiple assets"
   ]
  },
  {
   "cell_type": "code",
   "execution_count": 4,
   "metadata": {},
   "outputs": [
    {
     "data": {
      "text/plain": [
       "['AAVE-USD',\n",
       " 'ADA-USD',\n",
       " 'ALGO-USD',\n",
       " 'ATOM-USD',\n",
       " 'BAL-USD',\n",
       " 'BAND-USD',\n",
       " 'BCH-USD',\n",
       " 'BNT-USD',\n",
       " 'BTC-USD',\n",
       " 'CGLD-USD',\n",
       " 'COMP-USD',\n",
       " 'DAI-USD',\n",
       " 'DASH-USD',\n",
       " 'EOS-USD',\n",
       " 'ETC-USD',\n",
       " 'ETH-USD',\n",
       " 'FIL-USD',\n",
       " 'GRT-USD',\n",
       " 'KNC-USD',\n",
       " 'LINK-USD',\n",
       " 'LRC-USD',\n",
       " 'LTC-USD',\n",
       " 'MATIC-USD',\n",
       " 'MKR-USD',\n",
       " 'NMR-USD',\n",
       " 'NU-USD',\n",
       " 'OMG-USD',\n",
       " 'OXT-USD',\n",
       " 'REN-USD',\n",
       " 'REP-USD',\n",
       " 'SKL-USD',\n",
       " 'SNX-USD',\n",
       " 'SUSHI-USD',\n",
       " 'UMA-USD',\n",
       " 'UNI-USD',\n",
       " 'WBTC-USD',\n",
       " 'XLM-USD',\n",
       " 'XTZ-USD',\n",
       " 'YFI-USD',\n",
       " 'ZEC-USD',\n",
       " 'ZRX-USD']"
      ]
     },
     "execution_count": 4,
     "metadata": {},
     "output_type": "execute_result"
    }
   ],
   "source": [
    "availableAssets = sorted(['BTC-USD',\n",
    "              'ETH-USD',\n",
    "              'LTC-USD',\n",
    "              'BCH-USD',\n",
    "              'EOS-USD',\n",
    "              'DASH-USD',\n",
    "              'OXT-USD',\n",
    "              'MKR-USD',\n",
    "              'XLM-USD',\n",
    "              'ATOM-USD',\n",
    "              'XTZ-USD',\n",
    "              'ETC-USD',\n",
    "              'OMG-USD',\n",
    "              'ZEC-USD',\n",
    "              'LINK-USD',\n",
    "              'REP-USD',\n",
    "              'ZRX-USD',\n",
    "              'ALGO-USD',\n",
    "              'DAI-USD',\n",
    "              'KNC-USD',\n",
    "              'COMP-USD',\n",
    "              'BAND-USD',\n",
    "              'NMR-USD',\n",
    "              'CGLD-USD',\n",
    "              'UMA-USD',\n",
    "              'LRC-USD',\n",
    "              'YFI-USD',\n",
    "              'UNI-USD',\n",
    "              'REN-USD',\n",
    "              'BAL-USD',\n",
    "              'WBTC-USD',\n",
    "              'NU-USD',\n",
    "              'FIL-USD',\n",
    "              'AAVE-USD',\n",
    "              'GRT-USD',\n",
    "              'BNT-USD',\n",
    "              'SNX-USD',\n",
    "              'SUSHI-USD',\n",
    "              'MATIC-USD',\n",
    "              'SKL-USD',\n",
    "              'ADA-USD'])\n",
    "assets = availableAssets\n",
    "assets"
   ]
  },
  {
   "cell_type": "code",
   "execution_count": null,
   "metadata": {},
   "outputs": [],
   "source": []
  },
  {
   "cell_type": "code",
   "execution_count": null,
   "metadata": {},
   "outputs": [],
   "source": []
  },
  {
   "cell_type": "code",
   "execution_count": 531,
   "metadata": {},
   "outputs": [],
   "source": [
    "end = datetime.datetime.now()\n",
    "start = end - datetime.timedelta(days = 30)\n",
    "price_df = ff.getClosingPrice(Client, asset = assets, start = start, end = end, granularity = 300, verbose = True, usd = False)\n",
    "ff.clear()\n",
    "returns_df = ff.getReturns(Client, price_df = price_df)"
   ]
  },
  {
   "cell_type": "code",
   "execution_count": 3,
   "metadata": {},
   "outputs": [
    {
     "data": {
      "text/plain": [
       "False"
      ]
     },
     "execution_count": 3,
     "metadata": {},
     "output_type": "execute_result"
    }
   ],
   "source": [
    "with open(\"command.txt\") as f:\n",
    "    command = f.read()\n",
    "command == 'te'"
   ]
  },
  {
   "cell_type": "code",
   "execution_count": null,
   "metadata": {},
   "outputs": [],
   "source": []
  },
  {
   "cell_type": "code",
   "execution_count": 416,
   "metadata": {},
   "outputs": [
    {
     "data": {
      "text/html": [
       "<div>\n",
       "<style scoped>\n",
       "    .dataframe tbody tr th:only-of-type {\n",
       "        vertical-align: middle;\n",
       "    }\n",
       "\n",
       "    .dataframe tbody tr th {\n",
       "        vertical-align: top;\n",
       "    }\n",
       "\n",
       "    .dataframe thead th {\n",
       "        text-align: right;\n",
       "    }\n",
       "</style>\n",
       "<table border=\"1\" class=\"dataframe\">\n",
       "  <thead>\n",
       "    <tr style=\"text-align: right;\">\n",
       "      <th></th>\n",
       "      <th>Funds</th>\n",
       "      <th>Portfolio</th>\n",
       "    </tr>\n",
       "    <tr>\n",
       "      <th>Date</th>\n",
       "      <th></th>\n",
       "      <th></th>\n",
       "    </tr>\n",
       "  </thead>\n",
       "  <tbody>\n",
       "    <tr>\n",
       "      <td>1.0</td>\n",
       "      <td>1.0</td>\n",
       "      <td>1.0</td>\n",
       "    </tr>\n",
       "    <tr>\n",
       "      <td>2.0</td>\n",
       "      <td>2.0</td>\n",
       "      <td>4.0</td>\n",
       "    </tr>\n",
       "  </tbody>\n",
       "</table>\n",
       "</div>"
      ],
      "text/plain": [
       "      Funds  Portfolio\n",
       "Date                  \n",
       "1.0     1.0        1.0\n",
       "2.0     2.0        4.0"
      ]
     },
     "execution_count": 416,
     "metadata": {},
     "output_type": "execute_result"
    }
   ],
   "source": [
    "test_df = pd.DataFrame({'Date':[], 'Funds':[], 'Portfolio':[]}).set_index('Date').sort_index()\n",
    "test_df = test_df.append(pd.DataFrame({'Date':[1,2], 'Funds':[1,2], 'Portfolio':[1,4]}).set_index('Date').sort_index())\n",
    "test_df"
   ]
  },
  {
   "cell_type": "markdown",
   "metadata": {},
   "source": [
    "## Processing Data"
   ]
  },
  {
   "cell_type": "markdown",
   "metadata": {},
   "source": [
    "### Calculating Retuns of each period"
   ]
  },
  {
   "cell_type": "code",
   "execution_count": 7,
   "metadata": {},
   "outputs": [
    {
     "data": {
      "text/plain": [
       "11.0"
      ]
     },
     "execution_count": 7,
     "metadata": {},
     "output_type": "execute_result"
    }
   ],
   "source": [
    "round(11.23423,0)"
   ]
  },
  {
   "cell_type": "markdown",
   "metadata": {},
   "source": [
    "## Intervalizing Returns (like annualizing, but for any interval, month, week, day, etc)"
   ]
  },
  {
   "cell_type": "code",
   "execution_count": 533,
   "metadata": {},
   "outputs": [
    {
     "name": "stdout",
     "output_type": "stream",
     "text": [
      "           w-Returns\n",
      "ADA-USD    -0.314006\n",
      "ATOM-USD   -0.205613\n",
      "NMR-USD    -0.188880\n",
      "SUSHI-USD  -0.165242\n",
      "COMP-USD   -0.156991\n",
      "LRC-USD    -0.151322\n",
      "REN-USD    -0.130018\n",
      "KNC-USD    -0.129876\n",
      "MATIC-USD  -0.120371\n",
      "GRT-USD    -0.119824\n",
      "ALGO-USD   -0.109005\n",
      "DASH-USD   -0.108509\n",
      "LINK-USD   -0.089401\n",
      "AAVE-USD   -0.084352\n",
      "YFI-USD    -0.076938\n",
      "BAND-USD   -0.072842\n",
      "SNX-USD    -0.072102\n",
      "ZRX-USD    -0.059510\n",
      "ETH-USD    -0.059382\n",
      "SKL-USD    -0.059054\n",
      "CGLD-USD   -0.058056\n",
      "ZEC-USD    -0.056714\n",
      "WBTC-USD   -0.055779\n",
      "BTC-USD    -0.055231\n",
      "LTC-USD    -0.054147\n",
      "BAL-USD    -0.053115\n",
      "BNT-USD    -0.051059\n",
      "MKR-USD    -0.050478\n",
      "UMA-USD    -0.049118\n",
      "BCH-USD    -0.030192\n",
      "OMG-USD    -0.026033\n",
      "EOS-USD    -0.020663\n",
      "XLM-USD    -0.015250\n",
      "DAI-USD    -0.000411\n",
      "XTZ-USD     0.008089\n",
      "ETC-USD     0.009722\n",
      "UNI-USD     0.028004\n",
      "NU-USD      0.038010\n",
      "OXT-USD     0.084886\n",
      "FIL-USD     0.196118\n",
      "REP-USD     0.218197\n",
      "['XTZ-USD', 'ETC-USD', 'UNI-USD', 'NU-USD', 'OXT-USD', 'FIL-USD', 'REP-USD']\n"
     ]
    }
   ],
   "source": [
    "intReturns = ff.intervalizeReturns(returns_df, interval = 'W')\n",
    "intReturns = pd.DataFrame(intReturns.values, index = intReturns.index.values, columns = ['w-Returns']).sort_values('w-Returns')\n",
    "goodAssets = []\n",
    "for i in range(len(intReturns)):\n",
    "    if intReturns.iloc[i]['w-Returns'] > 0:\n",
    "        goodAssets += [intReturns.index[i]]\n",
    "print(intReturns)\n",
    "print(goodAssets)\n",
    "assets = goodAssets"
   ]
  },
  {
   "cell_type": "code",
   "execution_count": 443,
   "metadata": {},
   "outputs": [
    {
     "data": {
      "text/plain": [
       "-0.06874881821141554"
      ]
     },
     "execution_count": 443,
     "metadata": {},
     "output_type": "execute_result"
    }
   ],
   "source": [
    "intReturns['w-Returns']['ETC-USD']"
   ]
  },
  {
   "cell_type": "markdown",
   "metadata": {},
   "source": [
    "## Portfolio Operations"
   ]
  },
  {
   "cell_type": "markdown",
   "metadata": {},
   "source": [
    "### Portfolio Return and Volatility"
   ]
  },
  {
   "cell_type": "code",
   "execution_count": 16,
   "metadata": {},
   "outputs": [
    {
     "name": "stdout",
     "output_type": "stream",
     "text": [
      "Portfolio Return: -0.034606181767832915\n",
      "Portfolio Volatility: 0.0018376889260813978\n"
     ]
    }
   ],
   "source": [
    "weights = np.random.random(size = len(intReturns.index))\n",
    "weights /= sum(weights)\n",
    "print(\"Portfolio Return: \" + str(ff.portfolioReturn(returns_df, weights, interval = 'W')))\n",
    "print(\"Portfolio Volatility: \" + str(ff.portfolioVolatility(returns_df, weights)))"
   ]
  },
  {
   "cell_type": "markdown",
   "metadata": {},
   "source": [
    "### Efficiency Frontier for 2 asset portfolio"
   ]
  },
  {
   "cell_type": "code",
   "execution_count": 56,
   "metadata": {},
   "outputs": [
    {
     "name": "stderr",
     "output_type": "stream",
     "text": [
      "/Users/andreguimaraes/opt/anaconda3/lib/python3.7/site-packages/ipykernel_launcher.py:8: UserWarning: Matplotlib is currently using module://ipykernel.pylab.backend_inline, which is a non-GUI backend, so cannot show the figure.\n",
      "  \n"
     ]
    },
    {
     "data": {
      "image/png": "[encoded data removed]",
      "text/plain": [
       "<Figure size 432x288 with 1 Axes>"
      ]
     },
     "metadata": {
      "needs_background": "light"
     },
     "output_type": "display_data"
    }
   ],
   "source": [
    "fig, ax = plt.subplots()\n",
    "x = [ff.portfolioVolatility(returns_df[['MKR-USD', 'OXT-USD']], np.array([w, 1-w])) for w in np.linspace(0,1)]\n",
    "y = [ff.portfolioReturn(returns_df[['MKR-USD', 'OXT-USD']], np.array([w, 1-w]), interval = 'W') for w in np.linspace(0,1)]\n",
    "ax.scatter(x, y)\n",
    "ax.set_xlim(min(x), max(x))\n",
    "ax.set_xlabel(\"Volatility\")\n",
    "ax.set_ylabel(\"Return\")\n",
    "fig.show()\n"
   ]
  },
  {
   "cell_type": "markdown",
   "metadata": {},
   "source": [
    "### Minimizing Volatility for a target return for a given portfolio (to find eff. frontier for multiple portfolios)"
   ]
  },
  {
   "cell_type": "code",
   "execution_count": 32,
   "metadata": {},
   "outputs": [
    {
     "name": "stdout",
     "output_type": "stream",
     "text": [
      "Weights which give 0 return: [0.49480407 0.50519593]\n",
      "Portfolio Return for those weights: 1.0026701691145945e-13\n",
      "Portfolio Volatility for those weights: 0.0045370474775985915\n"
     ]
    }
   ],
   "source": [
    "#For 2 assets\n",
    "ws = ff.minimizeVolatility(0.00, returns_df[['MKR-USD', 'OXT-USD']], interval = 'W')\n",
    "print('Weights which give 0 return: ' + str(ws))\n",
    "print('Portfolio Return for those weights: ' + str(ff.portfolioReturn(returns_df[['MKR-USD', 'OXT-USD']], ws, interval = 'W')))\n",
    "print('Portfolio Volatility for those weights: ' + str(ff.portfolioVolatility(returns_df[['MKR-USD', 'OXT-USD']], ws)))"
   ]
  },
  {
   "cell_type": "code",
   "execution_count": 43,
   "metadata": {},
   "outputs": [
    {
     "name": "stdout",
     "output_type": "stream",
     "text": [
      "Weights which give 0.05 return: [0.57311526 0.25723518 0.         0.         0.0315847  0.\n",
      " 0.04971407 0.08835079 0.         0.        ]\n",
      "Portfolio Return for those weights: 1.0842793676801854e-12\n",
      "Portfolio Volatility for those weights: 0.003400351730332338\n"
     ]
    }
   ],
   "source": [
    "#For multiple assets (not including USD asset)\n",
    "ws = ff.minimizeVolatility(0.00, returns_df[assets[:-1]], interval = 'W')\n",
    "print('Weights which give 0.05 return: ' + str(ws))\n",
    "print('Portfolio Return for those weights: ' + str(ff.portfolioReturn(returns_df[assets[:-1]], ws, interval = 'W')))\n",
    "print('Portfolio Volatility for those weights: ' + str(ff.portfolioVolatility(returns_df[assets[:-1]], ws)))"
   ]
  },
  {
   "cell_type": "code",
   "execution_count": 61,
   "metadata": {},
   "outputs": [
    {
     "name": "stderr",
     "output_type": "stream",
     "text": [
      "/Users/andreguimaraes/opt/anaconda3/lib/python3.7/site-packages/ipykernel_launcher.py:9: RuntimeWarning: invalid value encountered in true_divide\n",
      "  if __name__ == '__main__':\n",
      "/Users/andreguimaraes/opt/anaconda3/lib/python3.7/site-packages/ipykernel_launcher.py:17: UserWarning: Matplotlib is currently using module://ipykernel.pylab.backend_inline, which is a non-GUI backend, so cannot show the figure.\n"
     ]
    },
    {
     "data": {
      "image/png": "[encoded data removed]",
      "text/plain": [
       "<Figure size 720x720 with 1 Axes>"
      ]
     },
     "metadata": {
      "needs_background": "light"
     },
     "output_type": "display_data"
    }
   ],
   "source": [
    "assets = ['BTC-USD', 'DASH-USD', 'OXT-USD']\n",
    "fig, ax = plt.subplots(figsize = [10,10])\n",
    "xs = []\n",
    "ys = []\n",
    "for w1 in np.linspace(0,1,10):\n",
    "    for w2 in np.linspace(0,1,10):\n",
    "        for w3 in np.linspace(0,1,10):\n",
    "            w = np.array([w1, w2, w3])\n",
    "            w = w/sum(w)\n",
    "            xs += [ff.portfolioVolatility(returns_df[assets], w)]\n",
    "            ys += [ff.portfolioReturn(returns_df[assets], w, interval = 'W')]\n",
    "ax.scatter(xs, ys, color = 'blue', marker = 'x')\n",
    "ax.set_xlim(0.003, 0.006)\n",
    "ax.set_ylim(-0.08, 0.06)\n",
    "ax.set_xlabel(\"Volatility\")\n",
    "ax.set_ylabel(\"Return\")\n",
    "fig.show()"
   ]
  },
  {
   "cell_type": "markdown",
   "metadata": {},
   "source": [
    "### Finding efficiency frontier for multiple assets"
   ]
  },
  {
   "cell_type": "code",
   "execution_count": 535,
   "metadata": {},
   "outputs": [
    {
     "name": "stderr",
     "output_type": "stream",
     "text": [
      "/Users/andreguimaraes/opt/anaconda3/lib/python3.7/site-packages/ipykernel_launcher.py:17: UserWarning: Matplotlib is currently using module://ipykernel.pylab.backend_inline, which is a non-GUI backend, so cannot show the figure.\n"
     ]
    },
    {
     "data": {
      "image/png": "[encoded data removed]",
      "text/plain": [
       "<Figure size 720x447.205 with 1 Axes>"
      ]
     },
     "metadata": {
      "needs_background": "light"
     },
     "output_type": "display_data"
    }
   ],
   "source": [
    "#assets = availAssets\n",
    "#assets = availAssets + ['USD']\n",
    "intReturns = ff.intervalizeReturns(returns_df[assets], interval = 'W')\n",
    "minR = min(intReturns)\n",
    "maxR = max(intReturns)\n",
    "xs = []\n",
    "ys = []\n",
    "fig, ax = plt.subplots(figsize = [10, 10/1.61])\n",
    "for target_return in np.linspace(minR, maxR, 50):\n",
    "    ws = ff.minimizeVolatility(target_return, returns_df[assets], interval = 'W')\n",
    "    xs += [ff.portfolioVolatility(returns_df[assets], ws)]\n",
    "    ys += [ff.portfolioReturn(returns_df[assets], ws, interval = 'W')]\n",
    "ax.plot(xs, ys, color = 'blue')\n",
    "ax.set_xlim(min(xs)-0.0005, max(xs))\n",
    "ax.set_xlabel(\"Volatility\")\n",
    "ax.set_ylabel(\"Return\")\n",
    "fig.show()"
   ]
  },
  {
   "cell_type": "code",
   "execution_count": 537,
   "metadata": {},
   "outputs": [
    {
     "data": {
      "text/plain": [
       "<matplotlib.patches.Ellipse at 0x7f92aa642950>"
      ]
     },
     "execution_count": 537,
     "metadata": {},
     "output_type": "execute_result"
    },
    {
     "data": {
      "image/png": "[encoded data removed]",
      "text/plain": [
       "<Figure size 720x447.205 with 1 Axes>"
      ]
     },
     "metadata": {
      "needs_background": "light"
     },
     "output_type": "display_data"
    }
   ],
   "source": [
    "fig, ax = plt.subplots(figsize = [10, 10/1.61])\n",
    "xs = np.array(xs)\n",
    "ys = np.array(ys)\n",
    "yArgs = np.argwhere(ys > 0)\n",
    "xs = xs[yArgs.flatten()]\n",
    "ys = ys[yArgs.flatten()]\n",
    "ax.scatter(xs, ys)\n",
    "ax.set_xlim(0, max(xs[yArgs.flatten()]))\n",
    "\n",
    "msrW = ff.maximumSharpeRatio(0.0, returns_df[assets], interval = 'W')\n",
    "msrY = ff.portfolioReturn(returns_df[assets], msrW, interval = 'W')\n",
    "msrX = ff.portfolioVolatility(returns_df[assets], msrW)\n",
    "ax.scatter(msrX,msrY, color = 'red')\n",
    "ax.scatter(0,0,color = 'red')\n",
    "ax.plot([0, msrX,2*msrX],[0,msrY, 2*msrY],'--',color = 'red', )\n",
    "\n",
    "eqW = np.repeat(1/len(returns_df[assets].columns), len(returns_df[assets].columns))\n",
    "eqY = ff.portfolioReturn(returns_df[assets], eqW, interval = 'W')\n",
    "eqX = ff.portfolioVolatility(returns_df[assets], eqW)\n",
    "ax.scatter(eqX, eqY, color = 'green')\n",
    "\n",
    "nw1 = distMoney(msrW, 100, 1/20)\n",
    "nw1 = nw1/sum(nw1)\n",
    "nw1Y = ff.portfolioReturn(returns_df[assets], nw1, interval = 'W')\n",
    "nw1X = ff.portfolioVolatility(returns_df[assets], nw1)\n",
    "ax.scatter(nw1X, nw1Y, color = 'yellow')\n",
    "\n",
    "nw2 = distMoney(eqW, 100, 1/20)\n",
    "nw2 = nw2/sum(nw2)\n",
    "nw2Y = ff.portfolioReturn(returns_df[assets], nw2, interval = 'W')\n",
    "nw2X = ff.portfolioVolatility(returns_df[assets], nw2)\n",
    "ax.scatter(nw2X, nw2Y, color = 'yellow')\n",
    "\n",
    "factor = 0.07\n",
    "xrange = max(xs) - min(xs)\n",
    "yrange = max(ys) - min(ys)\n",
    "acceptable_range = patches.Ellipse((nw1X, nw1Y), xrange*factor, yrange*factor, color='orange', alpha = .5)\n",
    "ax.add_patch(acceptable_range)"
   ]
  },
  {
   "cell_type": "code",
   "execution_count": 538,
   "metadata": {},
   "outputs": [
    {
     "data": {
      "text/plain": [
       "{'AAVE-USD': 0.0,\n",
       " 'ADA-USD': 0.0,\n",
       " 'ALGO-USD': 0.0,\n",
       " 'ATOM-USD': 0.0,\n",
       " 'BAL-USD': 0.0,\n",
       " 'BAND-USD': 0.0,\n",
       " 'BCH-USD': 0.0,\n",
       " 'BNT-USD': 0.0,\n",
       " 'BTC-USD': 0.0,\n",
       " 'CGLD-USD': 0.0,\n",
       " 'COMP-USD': 0.0,\n",
       " 'DAI-USD': 0.0,\n",
       " 'DASH-USD': 0.0,\n",
       " 'EOS-USD': 0.0,\n",
       " 'ETC-USD': 0.0,\n",
       " 'ETH-USD': 0.0,\n",
       " 'FIL-USD': 0.6376956303941869,\n",
       " 'GRT-USD': 0.0,\n",
       " 'KNC-USD': 0.0,\n",
       " 'LINK-USD': 0.0,\n",
       " 'LRC-USD': 0.0,\n",
       " 'LTC-USD': 0.0,\n",
       " 'MATIC-USD': 0.0,\n",
       " 'MKR-USD': 0.0,\n",
       " 'NMR-USD': 0.0,\n",
       " 'NU-USD': 0.0,\n",
       " 'OMG-USD': 0.0,\n",
       " 'OXT-USD': 0.09849192899828929,\n",
       " 'REN-USD': 0.0,\n",
       " 'REP-USD': 0.26381244060752385,\n",
       " 'SKL-USD': 0.0,\n",
       " 'SNX-USD': 0.0,\n",
       " 'SUSHI-USD': 0.0,\n",
       " 'UMA-USD': 0.0,\n",
       " 'UNI-USD': 0.0,\n",
       " 'WBTC-USD': 0.0,\n",
       " 'XLM-USD': 0.0,\n",
       " 'XTZ-USD': 0.0,\n",
       " 'YFI-USD': 0.0,\n",
       " 'ZEC-USD': 0.0,\n",
       " 'ZRX-USD': 0.0}"
      ]
     },
     "execution_count": 538,
     "metadata": {},
     "output_type": "execute_result"
    }
   ],
   "source": [
    "makePortfolio(availableAssets, assets, msrW)"
   ]
  },
  {
   "cell_type": "code",
   "execution_count": 448,
   "metadata": {},
   "outputs": [
    {
     "data": {
      "text/plain": [
       "0.5312528320794743"
      ]
     },
     "execution_count": 448,
     "metadata": {},
     "output_type": "execute_result"
    }
   ],
   "source": [
    "max(intReturns['w-Returns'][goodAssets])"
   ]
  },
  {
   "cell_type": "code",
   "execution_count": 305,
   "metadata": {},
   "outputs": [
    {
     "name": "stdout",
     "output_type": "stream",
     "text": [
      "Portfolio A: {'BTC-USD': 0.0, 'ETH-USD': 0.0, 'LTC-USD': 0.0, 'BCH-USD': 0.0, 'EOS-USD': 0.0, 'DASH-USD': 0.0, 'OXT-USD': 0.343613332415392, 'MKR-USD': 0.0, 'XLM-USD': 0.0, 'ATOM-USD': 0.0, 'XTZ-USD': 0.0, 'ETC-USD': 0.0, 'OMG-USD': 0.0, 'ZEC-USD': 0.0, 'LINK-USD': 0.0, 'REP-USD': 0.1742230106196206, 'ZRX-USD': 0.0, 'ALGO-USD': 0.0, 'DAI-USD': 0.0, 'KNC-USD': 0.0, 'COMP-USD': 0.0, 'BAND-USD': 0.0, 'NMR-USD': 0.0, 'CGLD-USD': 0.0, 'UMA-USD': 0.0, 'LRC-USD': 0.0, 'YFI-USD': 0.0, 'UNI-USD': 0.40286360768787144, 'REN-USD': 0.0, 'BAL-USD': 0.0, 'WBTC-USD': 0.0, 'NU-USD': 0.07930004927711595, 'FIL-USD': 0.0, 'AAVE-USD': 0.0, 'GRT-USD': 0.0, 'BNT-USD': 0.0, 'SNX-USD': 0.0, 'SUSHI-USD': 0.0, 'MATIC-USD': 0.0, 'SKL-USD': 0.0, 'ADA-USD': 0.0}\n",
      "Portfolio B: {'BTC-USD': 0.0, 'ETH-USD': 0.0, 'LTC-USD': 0.0, 'BCH-USD': 0.0, 'EOS-USD': 0.0, 'DASH-USD': 0.0, 'OXT-USD': 0.2068124484329102, 'MKR-USD': 0.0, 'XLM-USD': 0.0, 'ATOM-USD': 0.0, 'XTZ-USD': 0.0, 'ETC-USD': 0.0, 'OMG-USD': 0.0, 'ZEC-USD': 0.0, 'LINK-USD': 0.0, 'REP-USD': 0.10825535635265626, 'ZRX-USD': 0.0, 'ALGO-USD': 0.0, 'DAI-USD': 0.0, 'KNC-USD': 0.0, 'COMP-USD': 0.0, 'BAND-USD': 0.0, 'NMR-USD': 0.0, 'CGLD-USD': 0.0, 'UMA-USD': 0.0, 'LRC-USD': 0.0, 'YFI-USD': 0.0, 'UNI-USD': 0.6051723887274214, 'REN-USD': 0.0, 'BAL-USD': 0.0, 'WBTC-USD': 0.0, 'NU-USD': 0.07975980648701214, 'FIL-USD': 0.0, 'AAVE-USD': 0.0, 'GRT-USD': 0.0, 'BNT-USD': 0.0, 'SNX-USD': 0.0, 'SUSHI-USD': 0.0, 'MATIC-USD': 0.0, 'SKL-USD': 0.0, 'ADA-USD': 0.0}\n",
      "Portfolio Distance: 0.11943450610911013\n",
      "\n",
      "Assets to be sold: {'UNI-USD': 0.20230878103954997, 'NU-USD': 0.00045975720989618885}\n",
      "Assets to be bought: {'OXT-USD': 0.1368008839824818, 'REP-USD': 0.06596765426696433}\n",
      "\n",
      "Assets to be sold: {'UNI-USD': 0.20276853824944613}\n",
      "Assets to be bought: {'OXT-USD': 0.1368008839824818, 'REP-USD': 0.06596765426696433}\n",
      "\n"
     ]
    }
   ],
   "source": [
    "porA = makePortfolio(availableAssets, assets, msrW, treshold = 0.05)\n",
    "porB = porA.copy()\n",
    "\n",
    "for key in porB.keys():\n",
    "    porB[key] = porB[key]*(1+np.random.uniform(-0.5,0.5))\n",
    "    #porB[key] = (porB[key] + np.random.uniform(0,0.1))*(1+np.random.uniform(-0.5,0.5))\n",
    "\n",
    "porB = nicefyPortfolio(porB, 0.05)\n",
    "    \n",
    "print(\"Portfolio A: \" + str(porA))\n",
    "print(\"Portfolio B: \" + str(porB))\n",
    "\n",
    "portfolio_distance = portfoliosDistance(returns_df[availableAssets], porA, porB, xrange, yrange)\n",
    "print(\"Portfolio Distance: \" + str(portfolio_distance) + '\\n')\n",
    "\n",
    "buys = {}\n",
    "sells = {}\n",
    "for key in porA.keys():\n",
    "    if porB[key] > porA[key]:\n",
    "        buys[key] = porB[key] - porA[key]\n",
    "    elif porB[key] < porA[key]:\n",
    "        sells[key] = porA[key] - porB[key]\n",
    "print(\"Assets to be sold: \" + str(buys))\n",
    "print(\"Assets to be bought: \" + str(sells) + '\\n')\n",
    "       \n",
    "buys, sells = nicefyTrades(buys, sells, 0.05)\n",
    "print(\"Assets to be sold: \" + str(buys))\n",
    "print(\"Assets to be bought: \" + str(sells) + '\\n')\n",
    "      \n",
    "trades = {}\n"
   ]
  },
  {
   "cell_type": "code",
   "execution_count": null,
   "metadata": {},
   "outputs": [],
   "source": []
  },
  {
   "cell_type": "code",
   "execution_count": 226,
   "metadata": {},
   "outputs": [
    {
     "data": {
      "text/plain": [
       "(0.058658736984287085, 'OXT-USD')"
      ]
     },
     "execution_count": 226,
     "metadata": {},
     "output_type": "execute_result"
    }
   ],
   "source": [
    "def maxDict(dictionary):\n",
    "    keys = []\n",
    "    for key in dictionary.keys():\n",
    "        keys += [key]\n",
    "    maxVal = dictionary[keys[0]]\n",
    "    maxKey = keys[0]\n",
    "    for key in dictionary.keys():\n",
    "        if dictionary[key] > maxVal:\n",
    "            maxVal = dictionary[key]\n",
    "            maxKey = key\n",
    "    return maxVal, maxKey\n",
    "\n",
    "maxDict(sells)"
   ]
  },
  {
   "cell_type": "code",
   "execution_count": 289,
   "metadata": {},
   "outputs": [],
   "source": [
    "def nicefyTrades(buys, sells, treshold = 0.05):\n",
    "    #Necefies sales dict by redistributing the ones below treshold\n",
    "    lowKeysSells = []\n",
    "    highKeysSells = []\n",
    "    lowKeysBuys = []\n",
    "    highKeysBuys = []\n",
    "    \n",
    "    for key in sells.keys():\n",
    "        if sells[key] < treshold:\n",
    "            lowKeysSells += [key]\n",
    "        else:\n",
    "            highKeysSells += [key]\n",
    "    for key in buys.keys():\n",
    "        if buys[key] < treshold:\n",
    "            lowKeysBuys += [key]\n",
    "        else:\n",
    "            highKeysBuys += [key]\n",
    "    for lowKey in lowKeysSells:\n",
    "        for key in highKeysSells:\n",
    "            sells[key] += sells[lowKey]/len(highKeysSells)\n",
    "        sells[lowKey] = 0\n",
    "    for lowKey in lowKeysBuys:\n",
    "        for key in highKeysBuys:\n",
    "            buys[key] += buys[lowKey]/len(highKeysBuys)\n",
    "        buys[lowKey] = 0\n",
    "    tempBuys = {}\n",
    "    for key in buys.keys():\n",
    "        if buys[key] > 0:\n",
    "            tempBuys[key] = buys[key]\n",
    "    tempSells = {}\n",
    "    for key in sells.keys():\n",
    "        if sells[key] > 0:\n",
    "            tempSells[key] = sells[key]\n",
    "    buys = tempBuys.copy()\n",
    "    sells = tempSells.copy()\n",
    "    \n",
    "    if len(buys) == 0 or len(sells) == 0:\n",
    "        return {}, {}\n",
    "    \n",
    "    totalBuys = sum([buys[key] for key in buys.keys()])\n",
    "    totalSells = sum([sells[key] for key in sells.keys()])\n",
    "    \n",
    "    newTotal = (totalBuys + totalSells)/2\n",
    "    for key in buys.keys():\n",
    "        buys[key] = buys[key]*newTotal/totalBuys\n",
    "    for key in sells.keys():\n",
    "        sells[key] = sells[key]*newTotal/totalSells\n",
    "        \n",
    "    return buys, sells"
   ]
  },
  {
   "cell_type": "code",
   "execution_count": 287,
   "metadata": {},
   "outputs": [
    {
     "data": {
      "text/plain": [
       "0"
      ]
     },
     "execution_count": 287,
     "metadata": {},
     "output_type": "execute_result"
    }
   ],
   "source": [
    "len({})"
   ]
  },
  {
   "cell_type": "code",
   "execution_count": 426,
   "metadata": {},
   "outputs": [],
   "source": [
    "timea = datetime.datetime.now()"
   ]
  },
  {
   "cell_type": "code",
   "execution_count": 427,
   "metadata": {},
   "outputs": [],
   "source": [
    "timeb = datetime.datetime.now()"
   ]
  },
  {
   "cell_type": "code",
   "execution_count": 433,
   "metadata": {},
   "outputs": [
    {
     "data": {
      "text/plain": [
       "1.115989"
      ]
     },
     "execution_count": 433,
     "metadata": {},
     "output_type": "execute_result"
    }
   ],
   "source": [
    "((timeb-timea) - datetime.timedelta(seconds=7)).total_seconds()"
   ]
  },
  {
   "cell_type": "code",
   "execution_count": 451,
   "metadata": {},
   "outputs": [
    {
     "data": {
      "text/plain": [
       "30.0"
      ]
     },
     "execution_count": 451,
     "metadata": {},
     "output_type": "execute_result"
    }
   ],
   "source": [
    "len(price_df)*300/60/60/24"
   ]
  },
  {
   "cell_type": "code",
   "execution_count": 456,
   "metadata": {},
   "outputs": [
    {
     "name": "stdout",
     "output_type": "stream",
     "text": [
      "2021-03-24 13:38:57.075929\n"
     ]
    }
   ],
   "source": [
    "print(datetime.datetime.now() + datetime.timedelta(days = 1))"
   ]
  },
  {
   "cell_type": "code",
   "execution_count": 459,
   "metadata": {},
   "outputs": [
    {
     "data": {
      "text/plain": [
       "{'a': 1, 'b': 0, 'c': 2}"
      ]
     },
     "execution_count": 459,
     "metadata": {},
     "output_type": "execute_result"
    }
   ],
   "source": [
    "a = {'a':1,'c':2,'b':0}\n",
    "b = {}\n",
    "keys = sorted(a)\n",
    "for key in keys:\n",
    "    b[key] = a[key]\n",
    "b"
   ]
  },
  {
   "cell_type": "code",
   "execution_count": 490,
   "metadata": {},
   "outputs": [
    {
     "name": "stdout",
     "output_type": "stream",
     "text": [
      "1994-03-22T00:00:00.000000000\n"
     ]
    },
    {
     "data": {
      "text/plain": [
       "array([[Timestamp('2020-03-22 00:00:00'), 2, 3],\n",
       "       [Timestamp('2021-03-22 00:00:00'), 2, 3],\n",
       "       [Timestamp('1994-03-22 00:00:00'), 3, 4]], dtype=object)"
      ]
     },
     "execution_count": 490,
     "metadata": {},
     "output_type": "execute_result"
    }
   ],
   "source": [
    "a = pd.DataFrame([[datetime.datetime(2020, 3,22),2,3],[datetime.datetime(2021, 3,22),2,3],[datetime.datetime(1994, 3,22),3,4]], columns = ['time','space','energy']).set_index('time')\n",
    "print(min(a.index.values))\n",
    "a.reset_index(inplace = True)\n",
    "a.to_numpy()"
   ]
  },
  {
   "cell_type": "code",
   "execution_count": 483,
   "metadata": {},
   "outputs": [
    {
     "data": {
      "text/plain": [
       "datetime.datetime(2020, 3, 22, 0, 5)"
      ]
     },
     "execution_count": 483,
     "metadata": {},
     "output_type": "execute_result"
    }
   ],
   "source": [
    "datetime.datetime(2020, 3,22) + datetime.timedelta(seconds = 300)"
   ]
  },
  {
   "cell_type": "code",
   "execution_count": 497,
   "metadata": {},
   "outputs": [
    {
     "ename": "AttributeError",
     "evalue": "'DataFrame' object has no attribute 'to_list'",
     "output_type": "error",
     "traceback": [
      "\u001b[0;31m---------------------------------------------------------------------------\u001b[0m",
      "\u001b[0;31mAttributeError\u001b[0m                            Traceback (most recent call last)",
      "\u001b[0;32m<ipython-input-497-baa5026e23f4>\u001b[0m in \u001b[0;36m<module>\u001b[0;34m\u001b[0m\n\u001b[0;32m----> 1\u001b[0;31m \u001b[0ma\u001b[0m\u001b[0;34m.\u001b[0m\u001b[0mto_list\u001b[0m\u001b[0;34m(\u001b[0m\u001b[0;34m)\u001b[0m\u001b[0;34m\u001b[0m\u001b[0;34m\u001b[0m\u001b[0m\n\u001b[0m",
      "\u001b[0;32m~/opt/anaconda3/lib/python3.7/site-packages/pandas/core/generic.py\u001b[0m in \u001b[0;36m__getattr__\u001b[0;34m(self, name)\u001b[0m\n\u001b[1;32m   5177\u001b[0m             \u001b[0;32mif\u001b[0m \u001b[0mself\u001b[0m\u001b[0;34m.\u001b[0m\u001b[0m_info_axis\u001b[0m\u001b[0;34m.\u001b[0m\u001b[0m_can_hold_identifiers_and_holds_name\u001b[0m\u001b[0;34m(\u001b[0m\u001b[0mname\u001b[0m\u001b[0;34m)\u001b[0m\u001b[0;34m:\u001b[0m\u001b[0;34m\u001b[0m\u001b[0;34m\u001b[0m\u001b[0m\n\u001b[1;32m   5178\u001b[0m                 \u001b[0;32mreturn\u001b[0m \u001b[0mself\u001b[0m\u001b[0;34m[\u001b[0m\u001b[0mname\u001b[0m\u001b[0;34m]\u001b[0m\u001b[0;34m\u001b[0m\u001b[0;34m\u001b[0m\u001b[0m\n\u001b[0;32m-> 5179\u001b[0;31m             \u001b[0;32mreturn\u001b[0m \u001b[0mobject\u001b[0m\u001b[0;34m.\u001b[0m\u001b[0m__getattribute__\u001b[0m\u001b[0;34m(\u001b[0m\u001b[0mself\u001b[0m\u001b[0;34m,\u001b[0m \u001b[0mname\u001b[0m\u001b[0;34m)\u001b[0m\u001b[0;34m\u001b[0m\u001b[0;34m\u001b[0m\u001b[0m\n\u001b[0m\u001b[1;32m   5180\u001b[0m \u001b[0;34m\u001b[0m\u001b[0m\n\u001b[1;32m   5181\u001b[0m     \u001b[0;32mdef\u001b[0m \u001b[0m__setattr__\u001b[0m\u001b[0;34m(\u001b[0m\u001b[0mself\u001b[0m\u001b[0;34m,\u001b[0m \u001b[0mname\u001b[0m\u001b[0;34m,\u001b[0m \u001b[0mvalue\u001b[0m\u001b[0;34m)\u001b[0m\u001b[0;34m:\u001b[0m\u001b[0;34m\u001b[0m\u001b[0;34m\u001b[0m\u001b[0m\n",
      "\u001b[0;31mAttributeError\u001b[0m: 'DataFrame' object has no attribute 'to_list'"
     ]
    }
   ],
   "source": [
    "a.to_numpy().tolist()"
   ]
  },
  {
   "cell_type": "code",
   "execution_count": 489,
   "metadata": {},
   "outputs": [
    {
     "data": {
      "text/plain": [
       "[[1, 2, 3, 4], [1, 2, 2, 1]]"
      ]
     },
     "execution_count": 489,
     "metadata": {},
     "output_type": "execute_result"
    }
   ],
   "source": []
  },
  {
   "cell_type": "code",
   "execution_count": 498,
   "metadata": {},
   "outputs": [
    {
     "name": "stderr",
     "output_type": "stream",
     "text": [
      "[autoreload of financialFunctions failed: Traceback (most recent call last):\n",
      "  File \"/Users/andreguimaraes/opt/anaconda3/lib/python3.7/site-packages/IPython/extensions/autoreload.py\", line 245, in check\n",
      "    superreload(m, reload, self.old_objects)\n",
      "  File \"/Users/andreguimaraes/opt/anaconda3/lib/python3.7/site-packages/IPython/extensions/autoreload.py\", line 450, in superreload\n",
      "    update_generic(old_obj, new_obj)\n",
      "  File \"/Users/andreguimaraes/opt/anaconda3/lib/python3.7/site-packages/IPython/extensions/autoreload.py\", line 387, in update_generic\n",
      "    update(a, b)\n",
      "  File \"/Users/andreguimaraes/opt/anaconda3/lib/python3.7/site-packages/IPython/extensions/autoreload.py\", line 357, in update_class\n",
      "    update_instances(old, new)\n",
      "  File \"/Users/andreguimaraes/opt/anaconda3/lib/python3.7/site-packages/IPython/extensions/autoreload.py\", line 312, in update_instances\n",
      "    update_instances(old, new, obj.__dict__, visited)\n",
      "  File \"/Users/andreguimaraes/opt/anaconda3/lib/python3.7/site-packages/IPython/extensions/autoreload.py\", line 312, in update_instances\n",
      "    update_instances(old, new, obj.__dict__, visited)\n",
      "  File \"/Users/andreguimaraes/opt/anaconda3/lib/python3.7/site-packages/IPython/extensions/autoreload.py\", line 317, in update_instances\n",
      "    update_instances(old, new, obj, visited)\n",
      "  File \"/Users/andreguimaraes/opt/anaconda3/lib/python3.7/site-packages/IPython/extensions/autoreload.py\", line 312, in update_instances\n",
      "    update_instances(old, new, obj.__dict__, visited)\n",
      "  File \"/Users/andreguimaraes/opt/anaconda3/lib/python3.7/site-packages/IPython/extensions/autoreload.py\", line 312, in update_instances\n",
      "    update_instances(old, new, obj.__dict__, visited)\n",
      "  File \"/Users/andreguimaraes/opt/anaconda3/lib/python3.7/site-packages/IPython/extensions/autoreload.py\", line 317, in update_instances\n",
      "    update_instances(old, new, obj, visited)\n",
      "NotImplementedError: Iteration over this class is unlikely to be threadsafe.\n",
      "]\n"
     ]
    },
    {
     "data": {
      "text/plain": [
       "[[1, 2, 3, 4], [1, 2, 2, 1]]"
      ]
     },
     "execution_count": 498,
     "metadata": {},
     "output_type": "execute_result"
    }
   ],
   "source": [
    "a = [[1,2,3,4],[1,2,2,1]]\n",
    "[] + a"
   ]
  },
  {
   "cell_type": "code",
   "execution_count": 501,
   "metadata": {},
   "outputs": [
    {
     "data": {
      "text/plain": [
       "[1, 2, 3, 4]"
      ]
     },
     "execution_count": 501,
     "metadata": {},
     "output_type": "execute_result"
    }
   ],
   "source": [
    "b = ['1',2,3,4]\n",
    "[eval(b[0])] + b[1:]"
   ]
  },
  {
   "cell_type": "code",
   "execution_count": 505,
   "metadata": {},
   "outputs": [
    {
     "data": {
      "text/plain": [
       "datetime.datetime(2014, 1, 23, 0, 0)"
      ]
     },
     "execution_count": 505,
     "metadata": {},
     "output_type": "execute_result"
    }
   ],
   "source": [
    "pd.Timestamp('2014-01-23 00:00:00').to_pydatetime()"
   ]
  },
  {
   "cell_type": "code",
   "execution_count": 520,
   "metadata": {},
   "outputs": [
    {
     "data": {
      "text/plain": [
       "array([[1, 2, 1],\n",
       "       [1, 2, 3],\n",
       "       [2, 2, 2]])"
      ]
     },
     "execution_count": 520,
     "metadata": {},
     "output_type": "execute_result"
    }
   ],
   "source": [
    "test = [[1,2,3],[2,2,2],[1,2,1],[1,2,3]]\n",
    "test = [tuple(row) for row in test]\n",
    "np.unique(test, axis = 0)"
   ]
  },
  {
   "cell_type": "code",
   "execution_count": 516,
   "metadata": {},
   "outputs": [
    {
     "data": {
      "text/plain": [
       "[(1, 2, 3), (2, 2, 2), (1, 2, 1), (1, 2, 3)]"
      ]
     },
     "execution_count": 516,
     "metadata": {},
     "output_type": "execute_result"
    }
   ],
   "source": [
    "new_array"
   ]
  },
  {
   "cell_type": "code",
   "execution_count": 524,
   "metadata": {},
   "outputs": [
    {
     "data": {
      "text/plain": [
       "[1, 2, 3]"
      ]
     },
     "execution_count": 524,
     "metadata": {},
     "output_type": "execute_result"
    }
   ],
   "source": [
    "a = [1,2,3]\n",
    "b = a.copy()\n",
    "b[0] += 1\n",
    "a"
   ]
  },
  {
   "cell_type": "code",
   "execution_count": 525,
   "metadata": {},
   "outputs": [
    {
     "name": "stderr",
     "output_type": "stream",
     "text": [
      "[autoreload of financialFunctions failed: Traceback (most recent call last):\n",
      "  File \"/Users/andreguimaraes/opt/anaconda3/lib/python3.7/site-packages/IPython/extensions/autoreload.py\", line 245, in check\n",
      "    superreload(m, reload, self.old_objects)\n",
      "  File \"/Users/andreguimaraes/opt/anaconda3/lib/python3.7/site-packages/IPython/extensions/autoreload.py\", line 450, in superreload\n",
      "    update_generic(old_obj, new_obj)\n",
      "  File \"/Users/andreguimaraes/opt/anaconda3/lib/python3.7/site-packages/IPython/extensions/autoreload.py\", line 387, in update_generic\n",
      "    update(a, b)\n",
      "  File \"/Users/andreguimaraes/opt/anaconda3/lib/python3.7/site-packages/IPython/extensions/autoreload.py\", line 357, in update_class\n",
      "    update_instances(old, new)\n",
      "  File \"/Users/andreguimaraes/opt/anaconda3/lib/python3.7/site-packages/IPython/extensions/autoreload.py\", line 312, in update_instances\n",
      "    update_instances(old, new, obj.__dict__, visited)\n",
      "  File \"/Users/andreguimaraes/opt/anaconda3/lib/python3.7/site-packages/IPython/extensions/autoreload.py\", line 312, in update_instances\n",
      "    update_instances(old, new, obj.__dict__, visited)\n",
      "  File \"/Users/andreguimaraes/opt/anaconda3/lib/python3.7/site-packages/IPython/extensions/autoreload.py\", line 317, in update_instances\n",
      "    update_instances(old, new, obj, visited)\n",
      "  File \"/Users/andreguimaraes/opt/anaconda3/lib/python3.7/site-packages/IPython/extensions/autoreload.py\", line 312, in update_instances\n",
      "    update_instances(old, new, obj.__dict__, visited)\n",
      "  File \"/Users/andreguimaraes/opt/anaconda3/lib/python3.7/site-packages/IPython/extensions/autoreload.py\", line 312, in update_instances\n",
      "    update_instances(old, new, obj.__dict__, visited)\n",
      "  File \"/Users/andreguimaraes/opt/anaconda3/lib/python3.7/site-packages/IPython/extensions/autoreload.py\", line 317, in update_instances\n",
      "    update_instances(old, new, obj, visited)\n",
      "NotImplementedError: Iteration over this class is unlikely to be threadsafe.\n",
      "]\n"
     ]
    },
    {
     "ename": "NameError",
     "evalue": "name 'pride_df' is not defined",
     "output_type": "error",
     "traceback": [
      "\u001b[0;31m---------------------------------------------------------------------------\u001b[0m",
      "\u001b[0;31mNameError\u001b[0m                                 Traceback (most recent call last)",
      "\u001b[0;32m<ipython-input-525-17622f9486f6>\u001b[0m in \u001b[0;36m<module>\u001b[0;34m\u001b[0m\n\u001b[0;32m----> 1\u001b[0;31m \u001b[0mpride_df\u001b[0m\u001b[0;34m\u001b[0m\u001b[0;34m\u001b[0m\u001b[0m\n\u001b[0m",
      "\u001b[0;31mNameError\u001b[0m: name 'pride_df' is not defined"
     ]
    }
   ],
   "source": [
    "pride_df"
   ]
  },
  {
   "cell_type": "code",
   "execution_count": 543,
   "metadata": {},
   "outputs": [
    {
     "data": {
      "text/html": [
       "<div>\n",
       "<style scoped>\n",
       "    .dataframe tbody tr th:only-of-type {\n",
       "        vertical-align: middle;\n",
       "    }\n",
       "\n",
       "    .dataframe tbody tr th {\n",
       "        vertical-align: top;\n",
       "    }\n",
       "\n",
       "    .dataframe thead th {\n",
       "        text-align: right;\n",
       "    }\n",
       "</style>\n",
       "<table border=\"1\" class=\"dataframe\">\n",
       "  <thead>\n",
       "    <tr style=\"text-align: right;\">\n",
       "      <th></th>\n",
       "      <th>0</th>\n",
       "      <th>1</th>\n",
       "      <th>2</th>\n",
       "    </tr>\n",
       "  </thead>\n",
       "  <tbody>\n",
       "    <tr>\n",
       "      <td>0</td>\n",
       "      <td>1.0</td>\n",
       "      <td>2</td>\n",
       "      <td>3</td>\n",
       "    </tr>\n",
       "    <tr>\n",
       "      <td>1</td>\n",
       "      <td>3.0</td>\n",
       "      <td>2</td>\n",
       "      <td>1</td>\n",
       "    </tr>\n",
       "  </tbody>\n",
       "</table>\n",
       "</div>"
      ],
      "text/plain": [
       "     0  1  2\n",
       "0  1.0  2  3\n",
       "1  3.0  2  1"
      ]
     },
     "execution_count": 543,
     "metadata": {},
     "output_type": "execute_result"
    }
   ],
   "source": [
    "a = pd.DataFrame([[1,2,3],[3,2,1],[float('nan'),2,4]]).dropna()\n",
    "a"
   ]
  },
  {
   "cell_type": "code",
   "execution_count": 562,
   "metadata": {},
   "outputs": [
    {
     "data": {
      "text/plain": [
       "time\n",
       "2021-02-22 21:25:00    366.808\n",
       "2021-02-22 21:26:00    364.251\n",
       "2021-02-22 21:27:00    368.828\n",
       "2021-02-22 21:28:00    366.354\n",
       "2021-02-22 21:29:00    363.378\n",
       "                        ...   \n",
       "2021-03-24 16:19:00    320.939\n",
       "2021-03-24 16:20:00    321.314\n",
       "2021-03-24 16:21:00    321.361\n",
       "2021-03-24 16:22:00    321.624\n",
       "2021-03-24 16:23:00    321.158\n",
       "Name: close, Length: 42035, dtype: float64"
      ]
     },
     "execution_count": 562,
     "metadata": {},
     "output_type": "execute_result"
    }
   ],
   "source": [
    "with open(\"RawData/AAVE-USD_RawData.pkl\", 'rb') as f:\n",
    "    df = pkl.load(f)\n",
    "df.sort_index()['close']\n"
   ]
  },
  {
   "cell_type": "code",
   "execution_count": 563,
   "metadata": {},
   "outputs": [
    {
     "data": {
      "text/plain": [
       "datetime.datetime(2021, 3, 24, 16, 29, 56, 623903)"
      ]
     },
     "execution_count": 563,
     "metadata": {},
     "output_type": "execute_result"
    }
   ],
   "source": []
  },
  {
   "cell_type": "code",
   "execution_count": 566,
   "metadata": {},
   "outputs": [
    {
     "ename": "TypeError",
     "evalue": "unsupported operand type(s) for -: 'list' and 'list'",
     "output_type": "error",
     "traceback": [
      "\u001b[0;31m---------------------------------------------------------------------------\u001b[0m",
      "\u001b[0;31mTypeError\u001b[0m                                 Traceback (most recent call last)",
      "\u001b[0;32m<ipython-input-566-9881cd633d88>\u001b[0m in \u001b[0;36m<module>\u001b[0;34m\u001b[0m\n\u001b[1;32m      1\u001b[0m \u001b[0ma\u001b[0m \u001b[0;34m=\u001b[0m \u001b[0;34m[\u001b[0m\u001b[0;34m'a'\u001b[0m\u001b[0;34m,\u001b[0m\u001b[0;34m'b'\u001b[0m\u001b[0;34m,\u001b[0m\u001b[0;34m'c'\u001b[0m\u001b[0;34m]\u001b[0m\u001b[0;34m\u001b[0m\u001b[0;34m\u001b[0m\u001b[0m\n\u001b[0;32m----> 2\u001b[0;31m \u001b[0ma\u001b[0m \u001b[0;34m-\u001b[0m\u001b[0;34m[\u001b[0m\u001b[0;34m'c'\u001b[0m\u001b[0;34m]\u001b[0m\u001b[0;34m\u001b[0m\u001b[0;34m\u001b[0m\u001b[0m\n\u001b[0m",
      "\u001b[0;31mTypeError\u001b[0m: unsupported operand type(s) for -: 'list' and 'list'"
     ]
    }
   ],
   "source": [
    "a = ['a','b','c']\n",
    "a - ['c']"
   ]
  },
  {
   "cell_type": "code",
   "execution_count": 636,
   "metadata": {},
   "outputs": [
    {
     "data": {
      "text/plain": [
       "11.234"
      ]
     },
     "execution_count": 636,
     "metadata": {},
     "output_type": "execute_result"
    }
   ],
   "source": [
    "a = 11.2343221324\n",
    "round(a,3)"
   ]
  },
  {
   "cell_type": "code",
   "execution_count": null,
   "metadata": {},
   "outputs": [],
   "source": []
  },
  {
   "cell_type": "code",
   "execution_count": null,
   "metadata": {},
   "outputs": [],
   "source": []
  },
  {
   "cell_type": "code",
   "execution_count": null,
   "metadata": {},
   "outputs": [],
   "source": []
  },
  {
   "cell_type": "code",
   "execution_count": null,
   "metadata": {},
   "outputs": [],
   "source": []
  },
  {
   "cell_type": "code",
   "execution_count": null,
   "metadata": {},
   "outputs": [],
   "source": []
  },
  {
   "cell_type": "code",
   "execution_count": null,
   "metadata": {},
   "outputs": [],
   "source": []
  },
  {
   "cell_type": "code",
   "execution_count": 812,
   "metadata": {},
   "outputs": [
    {
     "data": {
      "text/plain": [
       "Date\n",
       "2021-03-25 15:47:29.364564    0.0\n",
       "Name: Funds, dtype: float64"
      ]
     },
     "execution_count": 812,
     "metadata": {},
     "output_type": "execute_result"
    }
   ],
   "source": [
    "abs(returnsHist[returnsHist <= 0])"
   ]
  },
  {
   "cell_type": "code",
   "execution_count": 817,
   "metadata": {},
   "outputs": [
    {
     "data": {
      "text/plain": [
       "numpy.datetime64('2021-03-25T20:33:35.314126000')"
      ]
     },
     "execution_count": 817,
     "metadata": {},
     "output_type": "execute_result"
    }
   ],
   "source": [
    "returnsHist[returnsHist > 0].index.values[3]"
   ]
  },
  {
   "cell_type": "code",
   "execution_count": 6,
   "metadata": {},
   "outputs": [],
   "source": [
    "end = datetime.datetime.now()"
   ]
  },
  {
   "cell_type": "code",
   "execution_count": 26,
   "metadata": {},
   "outputs": [
    {
     "name": "stdout",
     "output_type": "stream",
     "text": [
      "\n",
      "Gathering data for BTC-USD\n",
      "[##################################................] (approx 00m 01s)\n",
      "\n"
     ]
    }
   ],
   "source": [
    "gs = [60, 300, 900, 3600, 21600, 86400]\n",
    "rets = []\n",
    "vols = []\n",
    "ls = []\n",
    "for granularity in gs:\n",
    "    print(granularity)\n",
    "    start = end - datetime.timedelta(days = 10)\n",
    "    price_df = ff.getClosingPrice(Client, asset = ['AAVE-USD','ADA-USD','BTC-USD'], start = start, end = end, granularity = granularity, verbose = True, usd = False)\n",
    "    ret = price_df.pct_change().dropna()\n",
    "    rets += [ff.intervalizeReturns(ret, interval = 'W')]\n",
    "    vols += [ff.intervalizeVolatility(ret, interval = 'W')]\n",
    "    ls += [len(ret)]\n",
    "    \n"
   ]
  },
  {
   "cell_type": "code",
   "execution_count": 25,
   "metadata": {},
   "outputs": [
    {
     "data": {
      "text/plain": [
       "[AAVE-USD   -0.050632\n",
       " ADA-USD    -0.053804\n",
       " BTC-USD    -0.035863\n",
       " dtype: float64, AAVE-USD   -0.050632\n",
       " ADA-USD    -0.053804\n",
       " BTC-USD    -0.035863\n",
       " dtype: float64, AAVE-USD   -0.050632\n",
       " ADA-USD    -0.053804\n",
       " BTC-USD    -0.035863\n",
       " dtype: float64, AAVE-USD   -0.050632\n",
       " ADA-USD    -0.053804\n",
       " BTC-USD    -0.035863\n",
       " dtype: float64, AAVE-USD   -0.050632\n",
       " ADA-USD    -0.053804\n",
       " BTC-USD    -0.035863\n",
       " dtype: float64, AAVE-USD   -0.050632\n",
       " ADA-USD    -0.053804\n",
       " BTC-USD    -0.035863\n",
       " dtype: float64]"
      ]
     },
     "execution_count": 25,
     "metadata": {},
     "output_type": "execute_result"
    }
   ],
   "source": [
    "rets"
   ]
  },
  {
   "cell_type": "code",
   "execution_count": null,
   "metadata": {},
   "outputs": [],
   "source": []
  }
 ],
 "metadata": {
  "kernelspec": {
   "display_name": "Python 3",
   "language": "python",
   "name": "python3"
  },
  "language_info": {
   "codemirror_mode": {
    "name": "ipython",
    "version": 3
   },
   "file_extension": ".py",
   "mimetype": "text/x-python",
   "name": "python",
   "nbconvert_exporter": "python",
   "pygments_lexer": "ipython3",
   "version": "3.7.4"
  }
 },
 "nbformat": 4,
 "nbformat_minor": 4
}
