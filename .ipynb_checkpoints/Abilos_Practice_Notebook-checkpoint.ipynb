{
 "cells": [
  {
   "cell_type": "code",
   "execution_count": 27,
   "metadata": {},
   "outputs": [],
   "source": [
    "import pandas as pd\n",
    "import yfinance as yf\n",
    "import datetime\n",
    "import time\n",
    "import requests\n",
    "import io\n",
    "import matplotlib.pyplot as plt"
   ]
  },
  {
   "cell_type": "code",
   "execution_count": 28,
   "metadata": {},
   "outputs": [
    {
     "name": "stdout",
     "output_type": "stream",
     "text": [
      "Baixando acoes da Tesla (TSLA)\n",
      "[*********************100%***********************]  1 of 1 completed\n"
     ]
    }
   ],
   "source": [
    "#Start and End time for the data collection\n",
    "start = datetime.datetime(2018,1,1) #Ano, Mes, Dia\n",
    "end = datetime.datetime(2020,12,31) #YYYY,MM,DD\n",
    "#Indices das acoes de interesse\n",
    "symbols = ['TSLA', 'FB']#Tesla & Facebook\n",
    "\n",
    "# create empty dataframe\n",
    "stock_final = pd.DataFrame()\n",
    "# iterate over each symbol\n",
    "# print the symbol which is being downloaded\n",
    "print(\"Baixando acoes da Tesla (TSLA)\")\n",
    "\n",
    "# download the stock price \n",
    "stock = []\n",
    "stock = yf.download('TSLA' , start=start, end=end, progress=True)\n"
   ]
  },
  {
   "cell_type": "code",
   "execution_count": 31,
   "metadata": {},
   "outputs": [
    {
     "data": {
      "text/plain": [
       "Text(0.5, 0, 'Date')"
      ]
     },
     "execution_count": 31,
     "metadata": {},
     "output_type": "execute_result"
    },
    {
     "data": {
      "image/png": "[encoded data removed]",
      "text/plain": [
       "<Figure size 1440x894.41 with 1 Axes>"
      ]
     },
     "metadata": {
      "needs_background": "light"
     },
     "output_type": "display_data"
    }
   ],
   "source": [
    "returns = stock['Close'].pct_change().dropna()\n",
    "fig, ax = plt.subplots(figsize = [20,20/1.61])\n",
    "ticks = [returns.index.tolist()[i] for i in range(0, len(returns.index.tolist()), 7)]\n",
    "ax = returns.iloc[-30:].plot.bar()\n",
    "ax.set_ylabel(\"Return\")\n",
    "ax.set_xlabel(\"Date\")"
   ]
  },
  {
   "cell_type": "code",
   "execution_count": null,
   "metadata": {},
   "outputs": [],
   "source": [
    "fig.show()"
   ]
  },
  {
   "cell_type": "code",
   "execution_count": null,
   "metadata": {},
   "outputs": [],
   "source": []
  },
  {
   "cell_type": "code",
   "execution_count": 1,
   "metadata": {},
   "outputs": [],
   "source": [
    "import numpy as np\n",
    "import pandas as pd\n",
    "import yfinance as yf\n",
    "import datetime\n",
    "import time\n",
    "import requests\n",
    "import io\n",
    "import matplotlib.pyplot as plt\n",
    "import fundamentus as fund\n",
    "import sys\n",
    "\n",
    "data = fund.get_data()\n",
    "#print(\"Tamanho do arquivo se salvarmos todos os dados de fundamentos.com.br a cada segundo por um dia: \" + str(sys.getsizeof(result)*60*60*24/1024/1024/1024) + \" Gb\")"
   ]
  },
  {
   "cell_type": "code",
   "execution_count": 2,
   "metadata": {},
   "outputs": [
    {
     "data": {
      "text/plain": [
       "{'Cotacao': Decimal('10.17'),\n",
       " 'P/L': Decimal('0.00'),\n",
       " 'P/VP': Decimal('0.00'),\n",
       " 'PSR': Decimal('0.000'),\n",
       " 'DY': Decimal('0.00'),\n",
       " 'P/Ativo': Decimal('0.000'),\n",
       " 'P/Cap.Giro': Decimal('0.00'),\n",
       " 'P/EBIT': Decimal('0.00'),\n",
       " 'P/ACL': Decimal('0.00'),\n",
       " 'EV/EBIT': Decimal('0.00'),\n",
       " 'EV/EBITDA': Decimal('0.00'),\n",
       " 'Mrg.Ebit': Decimal('0.0866'),\n",
       " 'Mrg.Liq.': Decimal('0.0565'),\n",
       " 'Liq.Corr.': Decimal('1.08'),\n",
       " 'ROIC': Decimal('0.1525'),\n",
       " 'ROE': Decimal('0.1993'),\n",
       " 'Liq.2meses': Decimal('0.00'),\n",
       " 'Pat.Liq': Decimal('545803000.00'),\n",
       " 'Div.Brut/Pat.': Decimal('0.82'),\n",
       " 'Cresc.5anos': Decimal('0.3093')}"
      ]
     },
     "execution_count": 2,
     "metadata": {},
     "output_type": "execute_result"
    }
   ],
   "source": [
    "data['POPR4']"
   ]
  },
  {
   "cell_type": "code",
   "execution_count": 12,
   "metadata": {},
   "outputs": [
    {
     "data": {
      "text/html": [
       "<div>\n",
       "<style scoped>\n",
       "    .dataframe tbody tr th:only-of-type {\n",
       "        vertical-align: middle;\n",
       "    }\n",
       "\n",
       "    .dataframe tbody tr th {\n",
       "        vertical-align: top;\n",
       "    }\n",
       "\n",
       "    .dataframe thead th {\n",
       "        text-align: right;\n",
       "    }\n",
       "</style>\n",
       "<table border=\"1\" class=\"dataframe\">\n",
       "  <thead>\n",
       "    <tr style=\"text-align: right;\">\n",
       "      <th></th>\n",
       "      <th>PETR3</th>\n",
       "      <th>PETR4</th>\n",
       "    </tr>\n",
       "  </thead>\n",
       "  <tbody>\n",
       "    <tr>\n",
       "      <td>Cotacao</td>\n",
       "      <td>22.97</td>\n",
       "      <td>23.24</td>\n",
       "    </tr>\n",
       "    <tr>\n",
       "      <td>P/L</td>\n",
       "      <td>42.15</td>\n",
       "      <td>42.65</td>\n",
       "    </tr>\n",
       "    <tr>\n",
       "      <td>P/VP</td>\n",
       "      <td>0.97</td>\n",
       "      <td>0.98</td>\n",
       "    </tr>\n",
       "    <tr>\n",
       "      <td>PSR</td>\n",
       "      <td>1.101</td>\n",
       "      <td>1.114</td>\n",
       "    </tr>\n",
       "    <tr>\n",
       "      <td>DY</td>\n",
       "      <td>0.0104</td>\n",
       "      <td>0.00</td>\n",
       "    </tr>\n",
       "    <tr>\n",
       "      <td>P/Ativo</td>\n",
       "      <td>0.303</td>\n",
       "      <td>0.307</td>\n",
       "    </tr>\n",
       "    <tr>\n",
       "      <td>P/Cap.Giro</td>\n",
       "      <td>49.64</td>\n",
       "      <td>50.22</td>\n",
       "    </tr>\n",
       "    <tr>\n",
       "      <td>P/EBIT</td>\n",
       "      <td>3.21</td>\n",
       "      <td>3.25</td>\n",
       "    </tr>\n",
       "    <tr>\n",
       "      <td>P/ACL</td>\n",
       "      <td>-0.56</td>\n",
       "      <td>-0.57</td>\n",
       "    </tr>\n",
       "    <tr>\n",
       "      <td>EV/EBIT</td>\n",
       "      <td>6.72</td>\n",
       "      <td>6.76</td>\n",
       "    </tr>\n",
       "    <tr>\n",
       "      <td>EV/EBITDA</td>\n",
       "      <td>4.01</td>\n",
       "      <td>4.03</td>\n",
       "    </tr>\n",
       "    <tr>\n",
       "      <td>Mrg.Ebit</td>\n",
       "      <td>0.3434</td>\n",
       "      <td>0.3434</td>\n",
       "    </tr>\n",
       "    <tr>\n",
       "      <td>Mrg.Liq.</td>\n",
       "      <td>0.023</td>\n",
       "      <td>0.023</td>\n",
       "    </tr>\n",
       "    <tr>\n",
       "      <td>Liq.Corr.</td>\n",
       "      <td>1.04</td>\n",
       "      <td>1.04</td>\n",
       "    </tr>\n",
       "    <tr>\n",
       "      <td>ROIC</td>\n",
       "      <td>0.1053</td>\n",
       "      <td>0.1053</td>\n",
       "    </tr>\n",
       "    <tr>\n",
       "      <td>ROE</td>\n",
       "      <td>0.023</td>\n",
       "      <td>0.023</td>\n",
       "    </tr>\n",
       "    <tr>\n",
       "      <td>Liq.2meses</td>\n",
       "      <td>817515000.00</td>\n",
       "      <td>2657270000.00</td>\n",
       "    </tr>\n",
       "    <tr>\n",
       "      <td>Pat.Liq</td>\n",
       "      <td>308410000000.00</td>\n",
       "      <td>308410000000.00</td>\n",
       "    </tr>\n",
       "    <tr>\n",
       "      <td>Div.Brut/Pat.</td>\n",
       "      <td>1.27</td>\n",
       "      <td>1.27</td>\n",
       "    </tr>\n",
       "    <tr>\n",
       "      <td>Cresc.5anos</td>\n",
       "      <td>-0.0013</td>\n",
       "      <td>-0.0013</td>\n",
       "    </tr>\n",
       "  </tbody>\n",
       "</table>\n",
       "</div>"
      ],
      "text/plain": [
       "                         PETR3            PETR4\n",
       "Cotacao                  22.97            23.24\n",
       "P/L                      42.15            42.65\n",
       "P/VP                      0.97             0.98\n",
       "PSR                      1.101            1.114\n",
       "DY                      0.0104             0.00\n",
       "P/Ativo                  0.303            0.307\n",
       "P/Cap.Giro               49.64            50.22\n",
       "P/EBIT                    3.21             3.25\n",
       "P/ACL                    -0.56            -0.57\n",
       "EV/EBIT                   6.72             6.76\n",
       "EV/EBITDA                 4.01             4.03\n",
       "Mrg.Ebit                0.3434           0.3434\n",
       "Mrg.Liq.                 0.023            0.023\n",
       "Liq.Corr.                 1.04             1.04\n",
       "ROIC                    0.1053           0.1053\n",
       "ROE                      0.023            0.023\n",
       "Liq.2meses        817515000.00    2657270000.00\n",
       "Pat.Liq        308410000000.00  308410000000.00\n",
       "Div.Brut/Pat.             1.27             1.27\n",
       "Cresc.5anos            -0.0013          -0.0013"
      ]
     },
     "execution_count": 12,
     "metadata": {},
     "output_type": "execute_result"
    }
   ],
   "source": [
    "dataDF = pd.DataFrame(data)\n",
    "dataDF[['PETR3','PETR4']]\n",
    "#dataDF.T.sort_values(\"Liq.2meses\")"
   ]
  },
  {
   "cell_type": "code",
   "execution_count": 40,
   "metadata": {},
   "outputs": [
    {
     "data": {
      "text/plain": [
       "True"
      ]
     },
     "execution_count": 40,
     "metadata": {},
     "output_type": "execute_result"
    }
   ],
   "source": [
    "import re\n",
    "import urllib.request\n",
    "import urllib.parse\n",
    "import http.cookiejar\n",
    "\n",
    "from lxml.html import fragment_fromstring\n",
    "from collections import OrderedDict\n",
    "from decimal import Decimal\n",
    "\n",
    "url = 'http://www.fundamentus.com.br/resultado.php'\n",
    "cookie_jar = http.cookiejar.CookieJar()\n",
    "opener = urllib.request.build_opener(urllib.request.HTTPCookieProcessor(cookie_jar))\n",
    "opener.addheaders = [('User-agent', 'Mozilla/5.0 (Windows; U; Windows NT 6.1; rv:2.2) Gecko/20110201'),\n",
    "                     ('Accept', 'text/html, text/plain, text/css, text/sgml, */*;q=0.01')]\n",
    "\n",
    "data = {'pl_min': '',\n",
    "            'pl_max': '',\n",
    "            'pvp_min': '',\n",
    "            'pvp_max' : '',\n",
    "            'psr_min': '',\n",
    "            'psr_max': '',\n",
    "            'divy_min': '',\n",
    "            'divy_max': '',\n",
    "            'pativos_min': '',\n",
    "            'pativos_max': '',\n",
    "            'pcapgiro_min': '',\n",
    "            'pcapgiro_max': '',\n",
    "            'pebit_min': '',\n",
    "            'pebit_max': '',\n",
    "            'fgrah_min': '',\n",
    "            'fgrah_max': '',\n",
    "            'firma_ebit_min': '',\n",
    "            'firma_ebit_max': '',\n",
    "            'margemebit_min': '',\n",
    "            'margemebit_max': '',\n",
    "            'margemliq_min': '',\n",
    "            'margemliq_max': '',\n",
    "            'liqcorr_min': '',\n",
    "            'liqcorr_max': '',\n",
    "            'roic_min': '',\n",
    "            'roic_max': '',\n",
    "            'roe_min': '',\n",
    "            'roe_max': '',\n",
    "            'liq_min': '',\n",
    "            'liq_max': '',\n",
    "            'patrim_min': '',\n",
    "            'patrim_max': '',\n",
    "            'divbruta_min': '',\n",
    "            'divbruta_max': '',\n",
    "            'tx_cresc_rec_min': '',\n",
    "            'tx_cresc_rec_max': '',\n",
    "            'setor': '',\n",
    "            'negociada': '',\n",
    "            'ordem': '1',\n",
    "            'x': '28',\n",
    "            'y': '16'}\n",
    "\n",
    "with opener.open(url, urllib.parse.urlencode(data).encode('UTF-8')) as link:\n",
    "    content = link.read().decode('ISO-8859-1')\n",
    "#pattern = re.compile('<table id=\"resultado\".*</table>', re.DOTALL)\n",
    "#content = re.findall(pattern, content)[0]\n",
    "#page = fragment_fromstring(content)\n",
    "#result = OrderedDict()\n",
    "keysInSite[0] in content"
   ]
  },
  {
   "cell_type": "code",
   "execution_count": 41,
   "metadata": {},
   "outputs": [
    {
     "data": {
      "text/plain": [
       "['Eu', 'Gosto', 'de', 'rola', 6969420, ['18:45', 5.99]]"
      ]
     },
     "execution_count": 41,
     "metadata": {},
     "output_type": "execute_result"
    }
   ],
   "source": [
    "import pickle as pkl\n",
    "\n",
    "#Maneira certa de se abrir o arquivo\n",
    "#Para Escrever (overwrite)\n",
    "with open(\"test.pkl\", 'wb') as f:\n",
    "    var = ['Eu','Gosto','de','rola',6969420]\n",
    "    pkl.dump(var, f)\n",
    "\n",
    "#Para Ler\n",
    "with open('test.pkl', 'rb') as f:\n",
    "    var = pkl.load(f)\n",
    "\n",
    "\n",
    "#Adicionar a list\n",
    "with open('test.pkl', 'rb') as f:\n",
    "    var = pkl.load(f)\n",
    "    \n",
    "var = var + [['18:45',5.99]]\n",
    "\n",
    "with open('test.pkl', 'wb') as f:\n",
    "    pkl.dump(var, f)\n",
    "\n",
    "var"
   ]
  },
  {
   "cell_type": "code",
   "execution_count": 30,
   "metadata": {},
   "outputs": [],
   "source": [
    "var1 = np.array([1,2,3,'a'])\n",
    "var2 = np.array([4,3,3,4])\n",
    "\n",
    "a = [1,2,3,4]\n",
    "b = [4,3,3,4]"
   ]
  },
  {
   "cell_type": "code",
   "execution_count": 31,
   "metadata": {},
   "outputs": [
    {
     "ename": "TypeError",
     "evalue": "ufunc 'cos' not supported for the input types, and the inputs could not be safely coerced to any supported types according to the casting rule ''safe''",
     "output_type": "error",
     "traceback": [
      "\u001b[0;31m---------------------------------------------------------------------------\u001b[0m",
      "\u001b[0;31mTypeError\u001b[0m                                 Traceback (most recent call last)",
      "\u001b[0;32m<ipython-input-31-0a16970cb172>\u001b[0m in \u001b[0;36m<module>\u001b[0;34m\u001b[0m\n\u001b[0;32m----> 1\u001b[0;31m \u001b[0;34m(\u001b[0m\u001b[0mnp\u001b[0m\u001b[0;34m.\u001b[0m\u001b[0mcos\u001b[0m\u001b[0;34m(\u001b[0m\u001b[0mvar1\u001b[0m\u001b[0;34m)\u001b[0m\u001b[0;34m**\u001b[0m\u001b[0;36m2\u001b[0m\u001b[0;34m)\u001b[0m\u001b[0;34m\u001b[0m\u001b[0;34m\u001b[0m\u001b[0m\n\u001b[0m",
      "\u001b[0;31mTypeError\u001b[0m: ufunc 'cos' not supported for the input types, and the inputs could not be safely coerced to any supported types according to the casting rule ''safe''"
     ]
    }
   ],
   "source": [
    "(np.cos(var1)**2)"
   ]
  },
  {
   "cell_type": "code",
   "execution_count": 11,
   "metadata": {},
   "outputs": [],
   "source": [
    "import datetime\n",
    "t1 = datetime.datetime.now()"
   ]
  },
  {
   "cell_type": "code",
   "execution_count": 12,
   "metadata": {},
   "outputs": [],
   "source": [
    "t2 = datetime.datetime.now()"
   ]
  },
  {
   "cell_type": "code",
   "execution_count": 13,
   "metadata": {},
   "outputs": [
    {
     "data": {
      "text/plain": [
       "9.977403"
      ]
     },
     "execution_count": 13,
     "metadata": {},
     "output_type": "execute_result"
    }
   ],
   "source": [
    "(t2-t1).total_seconds()"
   ]
  },
  {
   "cell_type": "code",
   "execution_count": 20,
   "metadata": {},
   "outputs": [
    {
     "data": {
      "text/plain": [
       "datetime.timedelta(days=5)"
      ]
     },
     "execution_count": 20,
     "metadata": {},
     "output_type": "execute_result"
    }
   ],
   "source": [
    "datetime.timedelta(days = 5)"
   ]
  },
  {
   "cell_type": "code",
   "execution_count": 22,
   "metadata": {},
   "outputs": [
    {
     "data": {
      "text/plain": [
       "datetime.datetime(2021, 3, 28, 18, 5, 27, 643701)"
      ]
     },
     "execution_count": 22,
     "metadata": {},
     "output_type": "execute_result"
    }
   ],
   "source": [
    "t1 = datetime.datetime.now()\n",
    "t1"
   ]
  },
  {
   "cell_type": "code",
   "execution_count": 23,
   "metadata": {},
   "outputs": [
    {
     "data": {
      "text/plain": [
       "datetime.datetime(2021, 3, 28, 18, 5, 29, 643701)"
      ]
     },
     "execution_count": 23,
     "metadata": {},
     "output_type": "execute_result"
    }
   ],
   "source": [
    "t2 = t1\n",
    "t2 = t2 + datetime.timedelta(seconds = 2)\n",
    "t2"
   ]
  },
  {
   "cell_type": "code",
   "execution_count": 25,
   "metadata": {},
   "outputs": [
    {
     "data": {
      "text/plain": [
       "datetime.datetime(2021, 3, 28, 18, 5, 27, 643701)"
      ]
     },
     "execution_count": 25,
     "metadata": {},
     "output_type": "execute_result"
    }
   ],
   "source": [
    "t1"
   ]
  },
  {
   "cell_type": "code",
   "execution_count": 27,
   "metadata": {},
   "outputs": [],
   "source": [
    "a =  ['AAVE-USD', 'ADA-USD', 'ALGO-USD', 'ATOM-USD', 'BAL-USD', 'BAND-USD', 'BCH-USD', 'BNT-USD', 'BTC-USD', 'CGLD-USD', 'COMP-USD', 'DASH-USD', 'EOS-USD', 'ETC-USD', 'ETH-USD', 'FIL-USD', 'GRT-USD', 'KNC-USD', 'LINK-USD', 'LRC-USD', 'LTC-USD', 'MATIC-USD', 'MKR-USD', 'NMR-USD', 'NU-USD', 'OMG-USD', 'OXT-USD', 'REN-USD', 'REP-USD', 'SKL-USD', 'SNX-USD', 'SUSHI-USD', 'UMA-USD', 'UNI-USD','WBTC-USD', 'XLM-USD', 'XTZ-USD', 'YFI-USD', 'ZEC-USD', 'ZRX-USD']"
   ]
  },
  {
   "cell_type": "code",
   "execution_count": 30,
   "metadata": {},
   "outputs": [
    {
     "data": {
      "text/plain": [
       "['AAVE-USD',\n",
       " 'ADA-USD',\n",
       " 'ALGO-USD',\n",
       " 'ATOM-USD',\n",
       " 'BAL-USD',\n",
       " 'BAND-USD',\n",
       " 'BCH-USD',\n",
       " 'BNT-USD',\n",
       " 'BTC-USD',\n",
       " 'CGLD-USD']"
      ]
     },
     "execution_count": 30,
     "metadata": {},
     "output_type": "execute_result"
    }
   ],
   "source": [
    "a[:10]"
   ]
  },
  {
   "cell_type": "code",
   "execution_count": 34,
   "metadata": {},
   "outputs": [
    {
     "name": "stdout",
     "output_type": "stream",
     "text": [
      "{'passPhrase': 'f9w6xuoquxc', 'SecretKey': '48TFoNjmO8CbMgkvF5D8r5sTcAw3NU1yHquRbNrW7AkGF2D2XYzcXXqM+TtgUS2p4m8iV6rJKe9YbSPIP+8tvQ==', 'APIKey': 'd35d095d3b016bffbb35369c722230dd', 'APIurl': 'https://api.pro.coinbase.com'}\n"
     ]
    }
   ],
   "source": [
    "import pickle as pkl\n",
    "with open('../fredinhouTradingBot_Pvt/coinbase_credentials.pkl', 'rb') as f:\n",
    "    print(pkl.load(f))"
   ]
  },
  {
   "cell_type": "code",
   "execution_count": null,
   "metadata": {},
   "outputs": [],
   "source": [
    "#1\n",
    "cred1 = {'passPhrase': 'ckizlgq32ys', 'SecretKey': 'qu0UM8aFy0+qXaDqEHn/phuUDC7nRhuyBkPYLqeT1TNgApgHhue5Gg1naXaRSP9NSMBVACAqIdHVbKYz7NkYRg==', 'APIKey': 'b6c262e066b1e7d939cdd920aae85dc5', 'APIurl': 'https://api.pro.coinbase.com'}\n",
    "cred2 = {'passPhrase': 'k7g41o4sl1r', 'SecretKey': 'awccaF8VxcoF6vnhJ4bLgPso6aFV3Ma8iSpomEUo2ZfmiqC+27y+N44DlI3gbuNFn/K2U1I5hnumDimCCNd4eQ==', 'APIKey': 'a493b0420b52b9eac0b49297d69312a0', 'APIurl': 'https://api.pro.coinbase.com'}\n",
    "cred3 = {'passPhrase': 'bo1sw1ol64j', 'SecretKey': '1/sUwQFk4eLcImrCWHta4FXxLfTZbPBeP1NMplVZWB8SL4F/ZLicjrxvFAPrTHYlVU1VPz/YSnI1jBOd4twUGA==', 'APIKey': '3f3316e38caa381f685cb71e5ee20e25', 'APIurl': 'https://api.pro.coinbase.com'}\n",
    "cred4 = {'passPhrase': 'k7g41o4sl1r', 'SecretKey': 'awccaF8VxcoF6vnhJ4bLgPso6aFV3Ma8iSpomEUo2ZfmiqC+27y+N44DlI3gbuNFn/K2U1I5hnumDimCCNd4eQ==', 'APIKey': 'a493b0420b52b9eac0b49297d69312a0', 'APIurl': 'https://api.pro.coinbase.com'}\n"
   ]
  }
 ],
 "metadata": {
  "kernelspec": {
   "display_name": "Python 3",
   "language": "python",
   "name": "python3"
  },
  "language_info": {
   "codemirror_mode": {
    "name": "ipython",
    "version": 3
   },
   "file_extension": ".py",
   "mimetype": "text/x-python",
   "name": "python",
   "nbconvert_exporter": "python",
   "pygments_lexer": "ipython3",
   "version": "3.7.4"
  }
 },
 "nbformat": 4,
 "nbformat_minor": 4
}
